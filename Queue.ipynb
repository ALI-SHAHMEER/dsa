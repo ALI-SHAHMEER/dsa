{
 "cells": [
  {
   "cell_type": "markdown",
   "id": "f6648390-e89b-4943-9471-fb2514324142",
   "metadata": {},
   "source": [
    "# Queue"
   ]
  },
  {
   "cell_type": "code",
   "execution_count": 1,
   "id": "d1740f17-1952-456d-85ab-2450a0e225fc",
   "metadata": {},
   "outputs": [],
   "source": [
    "class Queue:\n",
    "    def __init__(self,size):\n",
    "        self.size = size\n",
    "        self.i = 0\n",
    "        self.o = 0\n",
    "        self.is_full = False\n",
    "        self.is_empty = True\n",
    "        self.queue = list(range(self.size))"
   ]
  },
  {
   "cell_type": "markdown",
   "id": "efe1a05c-633f-4d85-a4bb-8101ac5c3e37",
   "metadata": {},
   "source": [
    "# Circular Incrementation Function"
   ]
  },
  {
   "cell_type": "code",
   "execution_count": 2,
   "id": "cb20d86d-6b97-4c20-9dff-ab5d562a5b67",
   "metadata": {},
   "outputs": [],
   "source": [
    "def _cif(self,val):\n",
    "    if val + 1 == self.size:\n",
    "        return 0\n",
    "    else:\n",
    "        return val + 1\n",
    "\n",
    "Queue._cif = _cif"
   ]
  },
  {
   "cell_type": "markdown",
   "id": "e735bf61-a2bb-4111-820d-c68ee3d5025b",
   "metadata": {},
   "source": [
    "# Enqueue"
   ]
  },
  {
   "cell_type": "code",
   "execution_count": 3,
   "id": "3e2a063a-ce38-45c5-80dd-86513bbf0078",
   "metadata": {},
   "outputs": [],
   "source": [
    "def enqueue(self,val):\n",
    "    if self.is_full == True:\n",
    "        raise IndexError(\"Cannot perform Enqueue Operation\")\n",
    "\n",
    "    self.queue[self.i] = val\n",
    "    self.i = self._cif(self.i)\n",
    "\n",
    "    if self.i == self.o:\n",
    "        self.is_full = True\n",
    "\n",
    "    self.is_empty = False\n",
    "\n",
    "Queue.enqueue = enqueue"
   ]
  },
  {
   "cell_type": "markdown",
   "id": "5eb04f21-9fd7-4b40-b779-0476748f51f5",
   "metadata": {},
   "source": [
    "# Dequeue"
   ]
  },
  {
   "cell_type": "code",
   "execution_count": 4,
   "id": "1506e22a-53c9-499d-be01-e69a9f3cd355",
   "metadata": {},
   "outputs": [],
   "source": [
    "def dequeue(self):\n",
    "    if self.is_empty == True:\n",
    "        raise IndexError(\"Cannot perform Dequeue Operation\")\n",
    "\n",
    "    ret = self.queue[self.o]\n",
    "    self.o = self._cif(self.o)\n",
    "\n",
    "    if self.o == self.i:\n",
    "        self.is_empty = True\n",
    "\n",
    "    self.is_full = False\n",
    "    return ret\n",
    "\n",
    "Queue.dequeue = dequeue"
   ]
  },
  {
   "cell_type": "markdown",
   "id": "afa05b04-cceb-4317-8896-b270b83f5f4d",
   "metadata": {},
   "source": [
    "# String "
   ]
  },
  {
   "cell_type": "code",
   "execution_count": 5,
   "id": "e7b9adfc-899f-4d0a-b710-f35966ec166b",
   "metadata": {},
   "outputs": [],
   "source": [
    "def __str__(self):\n",
    "    return f\"{self.queue} In:{self.i} Out:{self.o}\"\n",
    "\n",
    "Queue.__str__ = __str__"
   ]
  },
  {
   "cell_type": "code",
   "execution_count": 6,
   "id": "85e8e202-d09b-4a72-a7cf-adf4cbdb158f",
   "metadata": {},
   "outputs": [],
   "source": [
    "q = Queue(5)"
   ]
  },
  {
   "cell_type": "code",
   "execution_count": 7,
   "id": "afaff83f-0820-47fa-a596-398ef0f1f1fa",
   "metadata": {},
   "outputs": [
    {
     "name": "stdout",
     "output_type": "stream",
     "text": [
      "[0, 1, 2, 3, 4] In:0 Out:0\n"
     ]
    }
   ],
   "source": [
    "print(q)"
   ]
  },
  {
   "cell_type": "code",
   "execution_count": 8,
   "id": "88c76529-8b8e-42ab-9212-12a75b2b4435",
   "metadata": {},
   "outputs": [
    {
     "name": "stdout",
     "output_type": "stream",
     "text": [
      "[100, 300, 500, 900, 600] In:0 Out:0\n"
     ]
    }
   ],
   "source": [
    "q.enqueue(100)\n",
    "q.enqueue(300)\n",
    "q.enqueue(500)\n",
    "q.enqueue(900)\n",
    "q.enqueue(600)\n",
    "# q.enqueue(900)\n",
    "print(q)"
   ]
  },
  {
   "cell_type": "code",
   "execution_count": 9,
   "id": "9bb4e894-6d55-4a23-94ff-b18f68939cd4",
   "metadata": {},
   "outputs": [
    {
     "data": {
      "text/plain": [
       "600"
      ]
     },
     "execution_count": 9,
     "metadata": {},
     "output_type": "execute_result"
    }
   ],
   "source": [
    "q.dequeue()\n",
    "q.dequeue()\n",
    "q.dequeue()\n",
    "q.dequeue()\n",
    "q.dequeue()"
   ]
  },
  {
   "cell_type": "code",
   "execution_count": 10,
   "id": "ac1e79d7-fb32-4540-8668-13159dc83010",
   "metadata": {},
   "outputs": [
    {
     "name": "stdout",
     "output_type": "stream",
     "text": [
      "[100, 300, 500, 900, 600] In:0 Out:0\n"
     ]
    }
   ],
   "source": [
    "print(q)"
   ]
  }
 ],
 "metadata": {
  "kernelspec": {
   "display_name": "Python 3 (ipykernel)",
   "language": "python",
   "name": "python3"
  },
  "language_info": {
   "codemirror_mode": {
    "name": "ipython",
    "version": 3
   },
   "file_extension": ".py",
   "mimetype": "text/x-python",
   "name": "python",
   "nbconvert_exporter": "python",
   "pygments_lexer": "ipython3",
   "version": "3.11.5"
  }
 },
 "nbformat": 4,
 "nbformat_minor": 5
}
