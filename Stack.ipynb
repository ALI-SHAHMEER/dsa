{
 "cells": [
  {
   "cell_type": "markdown",
   "id": "3c670b94-c92b-4895-b5f2-ea20f525c5b4",
   "metadata": {},
   "source": [
    "# Stack "
   ]
  },
  {
   "cell_type": "markdown",
   "id": "a6cda0a6-6be0-4bdb-aa68-70420830e588",
   "metadata": {},
   "source": [
    "## You can create stack by using list but with some mirror changes in it"
   ]
  },
  {
   "cell_type": "markdown",
   "id": "659307e2-007f-471e-83ac-350a1e4dbcd0",
   "metadata": {},
   "source": [
    "### You can only peek on last element inserted in it"
   ]
  },
  {
   "cell_type": "code",
   "execution_count": 1,
   "id": "d224c7fe-0823-4bf7-b0a0-69efa01502e2",
   "metadata": {},
   "outputs": [],
   "source": [
    "class Stack:\n",
    "    def __init__(self):\n",
    "        self.l = []\n",
    "\n",
    "    def push(self,val):\n",
    "        self.l.append(val)\n",
    "\n",
    "    def pop(self):\n",
    "        return self.l.pop()\n",
    "\n",
    "    def peak(self):\n",
    "        return self.l[-1]"
   ]
  },
  {
   "cell_type": "code",
   "execution_count": 2,
   "id": "0094f206-bc71-41b5-8e57-704c56c44c74",
   "metadata": {},
   "outputs": [
    {
     "name": "stdout",
     "output_type": "stream",
     "text": [
      "<__main__.Stack object at 0x7fb1110d4c90>\n"
     ]
    }
   ],
   "source": [
    "st = Stack()\n",
    "print(st)"
   ]
  },
  {
   "cell_type": "code",
   "execution_count": 3,
   "id": "7274f331-6079-473e-bc9e-7951516bfd42",
   "metadata": {},
   "outputs": [
    {
     "name": "stdout",
     "output_type": "stream",
     "text": [
      "None\n",
      "None\n",
      "None\n",
      "None\n",
      "None\n",
      "None\n",
      "None\n",
      "None\n",
      "None\n",
      "None\n",
      "None\n"
     ]
    }
   ],
   "source": [
    "for i in range(0,11):\n",
    "    print(st.push(i))"
   ]
  },
  {
   "cell_type": "code",
   "execution_count": 4,
   "id": "d42be042-8d22-474f-8d49-8b3a6983397a",
   "metadata": {},
   "outputs": [
    {
     "name": "stdout",
     "output_type": "stream",
     "text": [
      "10\n"
     ]
    }
   ],
   "source": [
    "print(st.peak())"
   ]
  },
  {
   "cell_type": "code",
   "execution_count": 5,
   "id": "94e9401d-a55a-47ae-a7bc-462aff9659eb",
   "metadata": {},
   "outputs": [
    {
     "name": "stdout",
     "output_type": "stream",
     "text": [
      "10\n"
     ]
    }
   ],
   "source": [
    "print(st.pop())"
   ]
  },
  {
   "cell_type": "code",
   "execution_count": 6,
   "id": "d7fd2dfe-207b-46d9-9a13-6e1602728c83",
   "metadata": {},
   "outputs": [
    {
     "name": "stdout",
     "output_type": "stream",
     "text": [
      "9\n"
     ]
    }
   ],
   "source": [
    "print(st.peak())"
   ]
  },
  {
   "cell_type": "code",
   "execution_count": 7,
   "id": "55b869c3-9526-45e0-b49e-3dd4bd8296e5",
   "metadata": {},
   "outputs": [
    {
     "name": "stdout",
     "output_type": "stream",
     "text": [
      "9\n"
     ]
    }
   ],
   "source": [
    "print(st.pop())"
   ]
  },
  {
   "cell_type": "code",
   "execution_count": 8,
   "id": "0b15384f-9706-4b6d-9823-76afbb291610",
   "metadata": {},
   "outputs": [
    {
     "name": "stdout",
     "output_type": "stream",
     "text": [
      "8\n"
     ]
    }
   ],
   "source": [
    "print(st.peak())"
   ]
  },
  {
   "cell_type": "markdown",
   "id": "6c0d11e1-16a5-4d47-af33-29d7e5d1a09b",
   "metadata": {},
   "source": [
    "# Case Study- Bracket Tracking"
   ]
  },
  {
   "cell_type": "markdown",
   "id": "5e9264d5-a6dd-416d-9569-fde81608c75e",
   "metadata": {},
   "source": [
    "## Zip Function"
   ]
  },
  {
   "cell_type": "code",
   "execution_count": 9,
   "id": "9a2b3024-9237-4173-b4a1-d9619d1aa8d6",
   "metadata": {},
   "outputs": [
    {
     "data": {
      "text/plain": [
       "[('a', '1'), ('b', '0'), ('c', '4')]"
      ]
     },
     "execution_count": 9,
     "metadata": {},
     "output_type": "execute_result"
    }
   ],
   "source": [
    "a = \"abce\"\n",
    "b = \"104\"\n",
    "list(zip(a,b))"
   ]
  },
  {
   "cell_type": "code",
   "execution_count": null,
   "id": "5a3dd951-2715-46d4-a61a-1e108544ff65",
   "metadata": {},
   "outputs": [],
   "source": []
  },
  {
   "cell_type": "code",
   "execution_count": 10,
   "id": "9b999f8f-f37d-4e02-9092-f9ddf4895113",
   "metadata": {},
   "outputs": [],
   "source": [
    "def is_valid(val):\n",
    "    opening = '([{'\n",
    "    closing = ')]}'\n",
    "    mapping = dict(zip(opening,closing))\n",
    "    stack = []\n",
    "    for c in val:\n",
    "        # Case:1 If other than bracket appread in string c then continue \n",
    "        if c not in mapping.keys() and c not in mapping.values():\n",
    "            continue\n",
    "        # Case:2 If it is opening bracket in keys then inserting closing bracket in Stack\n",
    "        if c in mapping:\n",
    "            stack.append(mapping[c])\n",
    "        # Case:3 if opening bracket start appearing then pop from stack and check the len of stack\n",
    "        elif len(stack) == 0 or c != stack.pop():\n",
    "            return False\n",
    "\n",
    "    if len(stack) == 0:\n",
    "        return True\n",
    "    else:\n",
    "        return False\n",
    "    "
   ]
  },
  {
   "cell_type": "code",
   "execution_count": 35,
   "id": "d4b98143-a34f-41a1-958d-06de5cc2b1be",
   "metadata": {},
   "outputs": [],
   "source": [
    "opening = '([{'\n",
    "closing = ')]}'\n",
    "mapping = dict(zip(opening,closing))"
   ]
  },
  {
   "cell_type": "code",
   "execution_count": 37,
   "id": "0124dfaf-6119-4d2d-b5bb-4399aef0e904",
   "metadata": {},
   "outputs": [],
   "source": [
    "def is_valid(string):\n",
    "    stack = []\n",
    "    for c in string:\n",
    "        # Case:1\n",
    "        if c not in mapping.keys() and c not in mapping.values():\n",
    "            continue\n",
    "\n",
    "        # Case:2\n",
    "        if c in mapping.keys():\n",
    "            stack.append(mapping[c])\n",
    "\n",
    "        # Case:3\n",
    "        elif len(stack) == 0 or c != stack.pop():\n",
    "            return False\n",
    "\n",
    "    return len(stack) == 0\n",
    "        "
   ]
  },
  {
   "cell_type": "code",
   "execution_count": 38,
   "id": "41ed60f7-5ec6-4334-89d6-b38d38ff432b",
   "metadata": {},
   "outputs": [
    {
     "name": "stdout",
     "output_type": "stream",
     "text": [
      "True\n"
     ]
    }
   ],
   "source": [
    "string = \"{[(8)+{4}+{7}*{7}/[7]+[2]*0]/3}\"\n",
    "print(is_valid(string))"
   ]
  },
  {
   "cell_type": "code",
   "execution_count": 39,
   "id": "749ef423-5cbd-4e0a-9e5b-59fb51f118cf",
   "metadata": {},
   "outputs": [
    {
     "name": "stdout",
     "output_type": "stream",
     "text": [
      "True\n"
     ]
    }
   ],
   "source": [
    "string = '{}'\n",
    "print(is_valid(string))"
   ]
  },
  {
   "cell_type": "code",
   "execution_count": 41,
   "id": "4b9423b3-03d6-4b43-9280-09af5f5f8ee6",
   "metadata": {},
   "outputs": [
    {
     "name": "stdout",
     "output_type": "stream",
     "text": [
      "False\n"
     ]
    }
   ],
   "source": [
    "print(is_valid(\"{})\"))"
   ]
  },
  {
   "cell_type": "markdown",
   "id": "61334e02-7f8a-406c-b6f3-7e68da1553e1",
   "metadata": {},
   "source": [
    "# Case Study: 2 Binary Conversion"
   ]
  },
  {
   "cell_type": "code",
   "execution_count": 56,
   "id": "dfa79b30-dbf0-414e-8e70-da61111b22d5",
   "metadata": {},
   "outputs": [],
   "source": [
    "def num_into_binary(number):\n",
    "    if number == 0:\n",
    "        return '[0]'\n",
    "    stack = []\n",
    "    while number != 0:\n",
    "        stack.append(number%2)\n",
    "        number = round(number / 2)\n",
    "\n",
    "    ret = '['\n",
    "    while stack:\n",
    "        ret += str(stack.pop())\n",
    "    ret += ']'\n",
    "    return ret \n",
    "    "
   ]
  },
  {
   "cell_type": "code",
   "execution_count": 57,
   "id": "001582a7-ab38-4810-8800-fcb1a07e8a66",
   "metadata": {},
   "outputs": [
    {
     "data": {
      "text/plain": [
       "'[1001]'"
      ]
     },
     "execution_count": 57,
     "metadata": {},
     "output_type": "execute_result"
    }
   ],
   "source": [
    "num_into_binary(9)"
   ]
  },
  {
   "cell_type": "code",
   "execution_count": 58,
   "id": "0b609e93-14fc-420b-9dbb-41fba279c513",
   "metadata": {},
   "outputs": [
    {
     "data": {
      "text/plain": [
       "'[1010]'"
      ]
     },
     "execution_count": 58,
     "metadata": {},
     "output_type": "execute_result"
    }
   ],
   "source": [
    "num_into_binary(10)"
   ]
  },
  {
   "cell_type": "code",
   "execution_count": 59,
   "id": "973c81bc-3c0a-4c15-a5bf-3c53fbb1988d",
   "metadata": {},
   "outputs": [
    {
     "data": {
      "text/plain": [
       "'[10101001]'"
      ]
     },
     "execution_count": 59,
     "metadata": {},
     "output_type": "execute_result"
    }
   ],
   "source": [
    "num_into_binary(89)"
   ]
  },
  {
   "cell_type": "code",
   "execution_count": 60,
   "id": "61229fa9-3938-4d59-bd17-2b5f9a265e54",
   "metadata": {},
   "outputs": [
    {
     "data": {
      "text/plain": [
       "'[0]'"
      ]
     },
     "execution_count": 60,
     "metadata": {},
     "output_type": "execute_result"
    }
   ],
   "source": [
    "num_into_binary(0)"
   ]
  }
 ],
 "metadata": {
  "kernelspec": {
   "display_name": "Python 3 (ipykernel)",
   "language": "python",
   "name": "python3"
  },
  "language_info": {
   "codemirror_mode": {
    "name": "ipython",
    "version": 3
   },
   "file_extension": ".py",
   "mimetype": "text/x-python",
   "name": "python",
   "nbconvert_exporter": "python",
   "pygments_lexer": "ipython3",
   "version": "3.11.5"
  }
 },
 "nbformat": 4,
 "nbformat_minor": 5
}
