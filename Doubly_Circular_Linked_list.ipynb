{
 "cells": [
  {
   "cell_type": "code",
   "execution_count": 1,
   "id": "8a466d07-e0e6-4fd2-aada-812fcc9d99d6",
   "metadata": {},
   "outputs": [],
   "source": [
    "class Node:\n",
    "    def __init__(self,val):\n",
    "        self.data = val\n",
    "        self.prev = None\n",
    "        self.next = None\n",
    "\n",
    "class Ring:\n",
    "    def __init__(self):\n",
    "        self.head = None"
   ]
  },
  {
   "cell_type": "code",
   "execution_count": 2,
   "id": "d0a2ef70-23fc-4298-8f4f-d8dcf37733fd",
   "metadata": {},
   "outputs": [],
   "source": [
    "def __str__(self):\n",
    "    if self.head is None:\n",
    "        return \"Empty list\"\n",
    "    current = self.head\n",
    "    result = '['\n",
    "    while True:\n",
    "        result += str(current.data) + ', '\n",
    "        current = current.next\n",
    "        if current == self.head:\n",
    "            break\n",
    "    result = result.rstrip(', ')\n",
    "    result += ']'\n",
    "    return result\n",
    "\n",
    "\n",
    "Ring.__str__ = __str__"
   ]
  },
  {
   "cell_type": "code",
   "execution_count": 3,
   "id": "2dbe184d-8359-481f-8878-7fc20e1b674c",
   "metadata": {},
   "outputs": [],
   "source": [
    "def last(self):\n",
    "    if self.head is None:\n",
    "        return\n",
    "\n",
    "    current = self.head\n",
    "    while current.next != self.head:\n",
    "        current = current.next\n",
    "\n",
    "    return current\n",
    "\n",
    "Ring.last = last"
   ]
  },
  {
   "cell_type": "code",
   "execution_count": 4,
   "id": "2c272afc-07d0-4ed6-a24f-2c7d741ed22f",
   "metadata": {},
   "outputs": [],
   "source": [
    "def push(self,val):\n",
    "    new_node = Node(val)\n",
    "    if self.head is None:\n",
    "        self.head = new_node\n",
    "        new_node.next = new_node\n",
    "        new_node.prev = new_node\n",
    "        return\n",
    "    else:\n",
    "        last_node = self.head.prev\n",
    "        last_node.next = new_node\n",
    "        new_node.prev = last_node\n",
    "        new_node.next = self.head\n",
    "        self.head.prev = new_node\n",
    "        return\n",
    "\n",
    "Ring.push = push    "
   ]
  },
  {
   "cell_type": "code",
   "execution_count": 5,
   "id": "808db513-4c84-43f5-840e-94265e4e211e",
   "metadata": {},
   "outputs": [
    {
     "name": "stdout",
     "output_type": "stream",
     "text": [
      "[0, 1, 2, 3, 4, 5, 6, 7, 8, 9, 10]\n"
     ]
    }
   ],
   "source": [
    "dc = Ring()\n",
    "for i in range(0,11):\n",
    "    dc.push(i)\n",
    "print(dc)"
   ]
  },
  {
   "cell_type": "code",
   "execution_count": 6,
   "id": "fb00867b-b561-4d39-aaea-bef75073d383",
   "metadata": {},
   "outputs": [
    {
     "name": "stdout",
     "output_type": "stream",
     "text": [
      "[0, 1, 2, 3, 4, 5, 6, 7, 8, 9, 10, 99]\n"
     ]
    }
   ],
   "source": [
    "dc.push(99)\n",
    "print(dc)"
   ]
  },
  {
   "cell_type": "code",
   "execution_count": 7,
   "id": "6e0e2e03-c6e9-47ab-96d3-bfa16c047ec0",
   "metadata": {},
   "outputs": [],
   "source": [
    "def pop(self):\n",
    "    if self.head is None:\n",
    "        return \"Cannot Pop\"\n",
    "    elif self.head.next == self.head:\n",
    "        temp = self.head.data\n",
    "        self.head.prev = None\n",
    "        self.head.next = None\n",
    "        self.head = None\n",
    "        return temp\n",
    "    else:\n",
    "        current = self.head.next\n",
    "        while current.next != self.head:\n",
    "            prev = current\n",
    "            current = current.next\n",
    "\n",
    "        temp = current.data\n",
    "        prev.next = self.head\n",
    "        self.head.prev = prev.next\n",
    "        return temp\n",
    "\n",
    "Ring.pop = pop"
   ]
  },
  {
   "cell_type": "code",
   "execution_count": 8,
   "id": "a761eb62-4ea2-4d77-b7dc-c22e7cd8d4ba",
   "metadata": {},
   "outputs": [],
   "source": [
    "def len(self):\n",
    "    if self.head is None:\n",
    "        return 0\n",
    "    count = 1\n",
    "    current = self.head.next\n",
    "    while current != self.head:\n",
    "        count += 1\n",
    "        current = current.next\n",
    "\n",
    "    return count    \n",
    "Ring.len = len"
   ]
  },
  {
   "cell_type": "code",
   "execution_count": 9,
   "id": "8e1c5685-a442-4ef5-9279-1467ac514efa",
   "metadata": {},
   "outputs": [],
   "source": [
    "def get(self,val):\n",
    "    temp = self.head\n",
    "    while temp != self.head.prev:\n",
    "        if temp.data == val:\n",
    "            return True\n",
    "        temp = temp.next\n",
    "\n",
    "    return False\n",
    "\n",
    "Ring.get = get"
   ]
  },
  {
   "cell_type": "code",
   "execution_count": 10,
   "id": "9c0bd22b-4d99-4105-8844-4796d0d358e3",
   "metadata": {},
   "outputs": [],
   "source": [
    "def last(self):\n",
    "    if self.head is None:\n",
    "        return None\n",
    "\n",
    "    current = self.head\n",
    "    while current.next != self.head:\n",
    "        current = current.next\n",
    "\n",
    "    return current\n",
    "\n",
    "Ring.last = last    "
   ]
  },
  {
   "cell_type": "code",
   "execution_count": 11,
   "id": "48b52d4b-fbe9-4d9d-93c6-9c43c37d46d4",
   "metadata": {},
   "outputs": [],
   "source": [
    "def insert(self,index,val):\n",
    "    new_node = Node(val)\n",
    "    last = self.last()\n",
    "    if index == 0:\n",
    "        new_node.next = self.head\n",
    "        new_node.prev = self.head.prev\n",
    "        self.head.prev.next = new_node\n",
    "        self.prev = new_node\n",
    "        self.head = new_node\n",
    "        return\n",
    "    else:\n",
    "        current = self.head\n",
    "        counter = 1\n",
    "        while current.next != self.head and counter < index:\n",
    "            current = current.next\n",
    "            counter += 1\n",
    "        new_node.next = current.next\n",
    "        new_node.prev = current\n",
    "        current.next.prev = new_node\n",
    "        current.next = new_node\n",
    "        return\n",
    "\n",
    "Ring.insert = insert"
   ]
  },
  {
   "cell_type": "code",
   "execution_count": 12,
   "id": "0d08122b-38fa-4bda-b385-c5bb27b7f962",
   "metadata": {},
   "outputs": [],
   "source": [
    "def remove(self,val):\n",
    "    if self.head is None:\n",
    "        return\n",
    "    current = self.head\n",
    "    last = self.last()\n",
    "    if current.data == val: # Found at 0 index\n",
    "        if last == self.head: # Check if last is equal to head\n",
    "            self.head = None\n",
    "        else: # atleast two nodes\n",
    "            self.head.prev = last.next\n",
    "            last.next = self.head.prev\n",
    "            self.head = current.next\n",
    "            current = self.head\n",
    "        return\n",
    "    prev = current\n",
    "    current = current.next\n",
    "    while current:\n",
    "        if current.data == val:\n",
    "            break\n",
    "        prev = current\n",
    "        current = current.next\n",
    "    prev.next = current.next\n",
    "    current.next.prev = prev.next\n",
    "    \n",
    "Ring.remove = remove"
   ]
  },
  {
   "cell_type": "code",
   "execution_count": 13,
   "id": "17bac94f-7fa3-4803-8194-36b6bb677c20",
   "metadata": {},
   "outputs": [
    {
     "name": "stdout",
     "output_type": "stream",
     "text": [
      "[100, 300, 100, 300, 100, 300, 100, 300]\n"
     ]
    }
   ],
   "source": [
    "dc1 = Ring()\n",
    "dc1.push(100)\n",
    "dc1.push(300)\n",
    "dc1.push(100)\n",
    "dc1.push(300)\n",
    "dc1.push(100)\n",
    "dc1.push(300)\n",
    "dc1.push(100)\n",
    "dc1.push(300)\n",
    "print(dc1)"
   ]
  },
  {
   "cell_type": "code",
   "execution_count": 14,
   "id": "1edb6048-de6c-4316-b34e-bd44da71f6cc",
   "metadata": {},
   "outputs": [
    {
     "data": {
      "text/plain": [
       "300"
      ]
     },
     "execution_count": 14,
     "metadata": {},
     "output_type": "execute_result"
    }
   ],
   "source": [
    "dc1.pop()"
   ]
  },
  {
   "cell_type": "code",
   "execution_count": 15,
   "id": "868b715a-280a-43b4-9c61-af1d9466d2d8",
   "metadata": {},
   "outputs": [],
   "source": [
    "dc3 = Ring()\n",
    "dc3.push(569)\n",
    "dc3.push(666)\n",
    "dc3.push(667)"
   ]
  },
  {
   "cell_type": "code",
   "execution_count": 16,
   "id": "e24fdb35-b942-47e9-b205-01e3ad0ef837",
   "metadata": {},
   "outputs": [
    {
     "name": "stdout",
     "output_type": "stream",
     "text": [
      "[569, 666, 667]\n"
     ]
    }
   ],
   "source": [
    "print(dc3)"
   ]
  },
  {
   "cell_type": "code",
   "execution_count": 17,
   "id": "7e0ed8e7-b425-4e50-b6a0-254ee33ca81b",
   "metadata": {},
   "outputs": [
    {
     "name": "stdout",
     "output_type": "stream",
     "text": [
      "[569, 666]\n"
     ]
    }
   ],
   "source": [
    "dc3.len()\n",
    "dc3.remove(667)\n",
    "print(dc3)"
   ]
  },
  {
   "cell_type": "code",
   "execution_count": 18,
   "id": "521c657b-8eb8-4f22-84b1-f7a9a011e37e",
   "metadata": {},
   "outputs": [
    {
     "data": {
      "text/plain": [
       "True"
      ]
     },
     "execution_count": 18,
     "metadata": {},
     "output_type": "execute_result"
    }
   ],
   "source": [
    "dc.get(7)"
   ]
  },
  {
   "cell_type": "code",
   "execution_count": 19,
   "id": "2ee6595b-766c-4287-a650-9051dcb4ad63",
   "metadata": {},
   "outputs": [],
   "source": [
    "dc.insert(7,65)"
   ]
  },
  {
   "cell_type": "code",
   "execution_count": 20,
   "id": "ac3376dd-c90d-41c4-9195-2c86c3a78f44",
   "metadata": {},
   "outputs": [
    {
     "name": "stdout",
     "output_type": "stream",
     "text": [
      "[0, 1, 2, 3, 4, 5, 6, 65, 7, 8, 9, 10, 99]\n"
     ]
    },
    {
     "data": {
      "text/plain": [
       "13"
      ]
     },
     "execution_count": 20,
     "metadata": {},
     "output_type": "execute_result"
    }
   ],
   "source": [
    "print(dc)\n",
    "dc.len()\n"
   ]
  },
  {
   "cell_type": "code",
   "execution_count": 22,
   "id": "a102e085-20ee-42ab-85a7-955c7a0ecae7",
   "metadata": {},
   "outputs": [
    {
     "name": "stdout",
     "output_type": "stream",
     "text": [
      "[1, 2, 3, 4, 5, 6, 65, 7, 8, 9, 10, 99]\n"
     ]
    }
   ],
   "source": [
    "dc.remove(0)\n",
    "print(dc)"
   ]
  }
 ],
 "metadata": {
  "kernelspec": {
   "display_name": "Python 3 (ipykernel)",
   "language": "python",
   "name": "python3"
  },
  "language_info": {
   "codemirror_mode": {
    "name": "ipython",
    "version": 3
   },
   "file_extension": ".py",
   "mimetype": "text/x-python",
   "name": "python",
   "nbconvert_exporter": "python",
   "pygments_lexer": "ipython3",
   "version": "3.11.5"
  }
 },
 "nbformat": 4,
 "nbformat_minor": 5
}
