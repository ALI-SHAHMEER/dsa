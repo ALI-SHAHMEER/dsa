{
 "cells": [
  {
   "cell_type": "markdown",
   "id": "ddf7f473-10ac-4772-a0fc-208ec4b92d3f",
   "metadata": {},
   "source": [
    "# Doubly Linked List"
   ]
  },
  {
   "cell_type": "code",
   "execution_count": 1,
   "id": "684d4920-0111-4f85-9c04-fad06dd0cc37",
   "metadata": {},
   "outputs": [],
   "source": [
    "class Node:\n",
    "    def __init__(self,data=None):\n",
    "        self.val = data\n",
    "        self.prev = None\n",
    "        self.next = None\n",
    "\n",
    "class Doubly:\n",
    "    def __init__(self):\n",
    "        self.head = None"
   ]
  },
  {
   "cell_type": "markdown",
   "id": "aa1f62f9-c5a5-4053-a9d1-2c6ed5670168",
   "metadata": {},
   "source": [
    "# String Function"
   ]
  },
  {
   "cell_type": "code",
   "execution_count": 2,
   "id": "29360e2c-0b45-4c46-ba71-8004151e3ec1",
   "metadata": {},
   "outputs": [],
   "source": [
    "def __str__(self):\n",
    "    ret_str = '['\n",
    "    temp = self.head\n",
    "    while temp is not None:\n",
    "        ret_str += str(temp.val)+', '\n",
    "        temp = temp.next\n",
    "\n",
    "    ret_str = ret_str.rstrip(', ')\n",
    "    ret_str += ']'\n",
    "    return ret_str\n",
    "\n",
    "Doubly.__str__ = __str__"
   ]
  },
  {
   "cell_type": "markdown",
   "id": "44bf02ec-c97e-4d2b-bdb1-8fe2098763b5",
   "metadata": {},
   "source": [
    "# Push Operation"
   ]
  },
  {
   "cell_type": "code",
   "execution_count": 3,
   "id": "49e40e3a-a939-4ff1-ba31-30ce965192ef",
   "metadata": {},
   "outputs": [],
   "source": [
    "def push(self,val):\n",
    "    new_node = Node(val)\n",
    "    if self.head is None:\n",
    "        self.head = new_node\n",
    "        print(\"Case 1\")\n",
    "        return\n",
    "\n",
    "    last = self.head\n",
    "    while last.next is not None:\n",
    "        last = last.next\n",
    "    \n",
    "    last.next = new_node\n",
    "    new_node.prev = last\n",
    "    print(\"Case 2\")\n",
    "\n",
    "Doubly.push = push"
   ]
  },
  {
   "cell_type": "markdown",
   "id": "965778af-771d-4d80-ae5d-b18a843b89f4",
   "metadata": {},
   "source": [
    "# Pop Function"
   ]
  },
  {
   "cell_type": "code",
   "execution_count": 4,
   "id": "f06dc4e1-4b1d-4522-863f-40c1a09eb81c",
   "metadata": {},
   "outputs": [],
   "source": [
    "def pop(self):\n",
    "    if self.head is None:\n",
    "        raise Exception(\"Cannot Pop\")\n",
    "\n",
    "    if self.head.next is None:\n",
    "        print(\"Case 1.5\")\n",
    "        val = self.head.val\n",
    "        self.head = None\n",
    "        return val\n",
    "\n",
    "    temp = self.head\n",
    "    while temp.next is not None:\n",
    "        prev = temp\n",
    "        temp = temp.next\n",
    "        \n",
    "    print(\"Case 2\")\n",
    "    val = temp.val\n",
    "    prev.next = None\n",
    "    return val\n",
    "\n",
    "Doubly.pop = pop\n",
    "    "
   ]
  },
  {
   "cell_type": "markdown",
   "id": "bc4ac575-82f0-426e-b6f2-d6540b2d8c06",
   "metadata": {},
   "source": [
    "# Insert Function"
   ]
  },
  {
   "cell_type": "code",
   "execution_count": 5,
   "id": "0eea7e3c-e5ed-41a1-9d54-f22e994ef9af",
   "metadata": {},
   "outputs": [],
   "source": [
    "def insert(self,index,val):\n",
    "    new_node = Node(val)\n",
    "    if index == 0:\n",
    "        new_node.next = self.head\n",
    "        print(\"Case 1\")\n",
    "        if self.head is not None:\n",
    "            self.head.prev = new_node\n",
    "            print(\"Case 1.5\")\n",
    "            \n",
    "        self.head = new_node\n",
    "        \n",
    "        return\n",
    "\n",
    "    counter = 0\n",
    "    temp = self.head\n",
    "    while temp.next is not None and counter < index:\n",
    "        prev = temp\n",
    "        temp = temp.next\n",
    "        counter += 1\n",
    "\n",
    "    prev.next = new_node\n",
    "    new_node.prev = prev\n",
    "\n",
    "    new_node.next = temp\n",
    "    temp.prev = new_node\n",
    "    print(\"Case 2\")    \n",
    "\n",
    "Doubly.insert = insert"
   ]
  },
  {
   "cell_type": "markdown",
   "id": "9f21a60d-4726-48f7-a3ab-320169109806",
   "metadata": {},
   "source": [
    "# Remove Function"
   ]
  },
  {
   "cell_type": "code",
   "execution_count": 6,
   "id": "d7760751-6a7d-47bd-800b-f50b8efe24f6",
   "metadata": {},
   "outputs": [],
   "source": [
    "def remove(self,data):\n",
    "    current = self.head\n",
    "\n",
    "    # Case 1: If the node to be removed is the head node\n",
    "    if current is not None and current.val == data:\n",
    "        self.head = current.next\n",
    "        if self.head is not None:\n",
    "            self.head.prev = None\n",
    "        return\n",
    "\n",
    "    # Case 2: If the node to be removed is not the head node\n",
    "    while current is not None:\n",
    "        if current.val == data:\n",
    "            if current.next is not None:\n",
    "                current.next.prev = current.prev\n",
    "            if current.prev is not None:\n",
    "                current.prev.next = current.next\n",
    "            return\n",
    "        current = current.next\n",
    "\n",
    "Doubly.remove = remove"
   ]
  },
  {
   "cell_type": "code",
   "execution_count": 7,
   "id": "748daa8e-609a-4901-8562-1512fe5a5616",
   "metadata": {},
   "outputs": [],
   "source": [
    "def maximum(self):\n",
    "    max = float('-inf')\n",
    "    current = self.head\n",
    "    while current:\n",
    "        if current.val >= max:\n",
    "            max = current.val\n",
    "        current = current.next\n",
    "    return max\n",
    "\n",
    "Doubly.maximum = maximum"
   ]
  },
  {
   "cell_type": "code",
   "execution_count": 8,
   "id": "9a3ae03d-d25a-4f2b-831b-baaeb20b2ca2",
   "metadata": {},
   "outputs": [],
   "source": [
    "def maximum_3(self):\n",
    "    if self.head is None:\n",
    "        return\n",
    "    h1 = float('-inf')\n",
    "    h2 = float('-inf')\n",
    "    h3 = float('-inf')\n",
    "    current = self.head\n",
    "    while current:\n",
    "        if current.val >= h1:\n",
    "            h3 = h2\n",
    "            h2 = h1\n",
    "            h1 = current.val\n",
    "        elif current.val >= h2:\n",
    "            h3 = h2 \n",
    "            h2 = current.val\n",
    "        elif current.val >= h3:\n",
    "            h3 = current.val\n",
    "        current = current.next\n",
    "\n",
    "    return (h1,h2,h3)\n",
    "Doubly.maximum_3 = maximum_3   "
   ]
  },
  {
   "cell_type": "code",
   "execution_count": 9,
   "id": "13dc06fe-8e33-47a4-bbbd-71a2b82ef079",
   "metadata": {},
   "outputs": [],
   "source": [
    "def remove_maximum(self):\n",
    "    max = self.maximum()\n",
    "    return self.remove(max)\n",
    "Doubly.remove_maximum = remove_maximum"
   ]
  },
  {
   "cell_type": "code",
   "execution_count": 10,
   "id": "574c7ebd-8d2d-44af-88b4-fcab2492848f",
   "metadata": {},
   "outputs": [],
   "source": [
    "def minimum(self):\n",
    "    min = float('inf')\n",
    "    current = self.head\n",
    "    while current:\n",
    "        if current.val <= min:\n",
    "            min = current.val\n",
    "        current = current.next\n",
    "    return min\n",
    "Doubly.minimum = minimum"
   ]
  },
  {
   "cell_type": "code",
   "execution_count": 11,
   "id": "9d290889-a52d-4b29-bd19-23a7bf457a87",
   "metadata": {},
   "outputs": [],
   "source": [
    "def minimum_3(self):\n",
    "    if self.head is None:\n",
    "        return\n",
    "    l1 = float('inf')\n",
    "    l2 = float('inf')\n",
    "    l3 = float('inf')\n",
    "    current = self.head\n",
    "    while current:\n",
    "        if current.val <= l1:\n",
    "            l3 = l2\n",
    "            l2 = l1\n",
    "            l1 = current.val\n",
    "        elif current.val <= l2:\n",
    "            l3 = l2\n",
    "            l2 = current.val\n",
    "        elif current.val <= l3:\n",
    "            l3 = current.val\n",
    "        current = current.next\n",
    "    return (l1,l2,l3)\n",
    "Doubly.minimum_3 = minimum_3"
   ]
  },
  {
   "cell_type": "code",
   "execution_count": 12,
   "id": "b63a271f-724d-461f-b059-b8155d29f63b",
   "metadata": {},
   "outputs": [],
   "source": [
    "def remove_minimum(self):\n",
    "    min = self.minimum()\n",
    "    return self.remove(min)\n",
    "Doubly.remove_minimum = remove_minimum"
   ]
  },
  {
   "cell_type": "code",
   "execution_count": 13,
   "id": "b98cdc43-5224-437a-8905-20129b667b78",
   "metadata": {},
   "outputs": [],
   "source": [
    "def reverse_doubly(self):\n",
    "    if self.head is None:\n",
    "        return\n",
    "    if self.head.next is None:\n",
    "        return\n",
    "    prev = None\n",
    "    current = self.head\n",
    "    while current != None:\n",
    "        temp = current.next\n",
    "        current.next = prev\n",
    "        current.prev = temp\n",
    "        prev = current\n",
    "        current = temp\n",
    "    self.head = prev\n",
    "\n",
    "Doubly.reverse_doubly = reverse_doubly        "
   ]
  },
  {
   "cell_type": "code",
   "execution_count": 14,
   "id": "7f33c1d1-379f-4a14-a48d-b490b2230d9c",
   "metadata": {},
   "outputs": [],
   "source": [
    "dl = Doubly()"
   ]
  },
  {
   "cell_type": "code",
   "execution_count": 15,
   "id": "bf37b062-cd3f-4ef1-b670-ca2fed77887d",
   "metadata": {},
   "outputs": [
    {
     "name": "stdout",
     "output_type": "stream",
     "text": [
      "Case 1\n",
      "Case 2\n",
      "Case 2\n",
      "Case 2\n",
      "Case 2\n",
      "Case 2\n"
     ]
    }
   ],
   "source": [
    "dl.push(1)\n",
    "dl.push(2)\n",
    "dl.push(3)\n",
    "dl.push(4)\n",
    "dl.push(5)\n",
    "dl.push(6)"
   ]
  },
  {
   "cell_type": "code",
   "execution_count": 16,
   "id": "31a24bd9-54b2-49bf-9f4d-2bede6e85629",
   "metadata": {},
   "outputs": [
    {
     "name": "stdout",
     "output_type": "stream",
     "text": [
      "Case 2\n",
      "Case 2\n",
      "Case 2\n",
      "Case 2\n",
      "Case 2\n",
      "Case 2\n",
      "Case 2\n",
      "Case 2\n",
      "Case 2\n",
      "Case 2\n",
      "Case 2\n"
     ]
    }
   ],
   "source": [
    "for i in range(0,11):\n",
    "    dl.push(i)"
   ]
  },
  {
   "cell_type": "code",
   "execution_count": 17,
   "id": "d25010df-f52e-4547-b298-830815de9ec3",
   "metadata": {},
   "outputs": [
    {
     "name": "stdout",
     "output_type": "stream",
     "text": [
      "[1, 2, 3, 4, 5, 6, 0, 1, 2, 3, 4, 5, 6, 7, 8, 9, 10]\n"
     ]
    }
   ],
   "source": [
    "print(dl)"
   ]
  },
  {
   "cell_type": "code",
   "execution_count": 18,
   "id": "372e787c-d398-45f8-a628-c09f65625a8f",
   "metadata": {},
   "outputs": [
    {
     "name": "stdout",
     "output_type": "stream",
     "text": [
      "Case 2\n"
     ]
    },
    {
     "data": {
      "text/plain": [
       "10"
      ]
     },
     "execution_count": 18,
     "metadata": {},
     "output_type": "execute_result"
    }
   ],
   "source": [
    "dl.pop()"
   ]
  },
  {
   "cell_type": "code",
   "execution_count": 19,
   "id": "d0b3928c-234e-438f-abdd-0b7a66084d3b",
   "metadata": {},
   "outputs": [
    {
     "name": "stdout",
     "output_type": "stream",
     "text": [
      "[1, 2, 3, 4, 5, 6, 0, 1, 2, 3, 4, 5, 6, 7, 8, 9]\n"
     ]
    }
   ],
   "source": [
    "print(dl)"
   ]
  },
  {
   "cell_type": "code",
   "execution_count": 20,
   "id": "51fa3aed-cc50-4bea-8277-d2eff78ee3af",
   "metadata": {},
   "outputs": [
    {
     "name": "stdout",
     "output_type": "stream",
     "text": [
      "Case 2\n"
     ]
    }
   ],
   "source": [
    "dl.insert(2,2.5)"
   ]
  },
  {
   "cell_type": "code",
   "execution_count": 21,
   "id": "fd5d9122-e093-4680-8893-1d723fdcc069",
   "metadata": {},
   "outputs": [
    {
     "name": "stdout",
     "output_type": "stream",
     "text": [
      "[1, 2, 2.5, 3, 4, 5, 6, 0, 1, 2, 3, 4, 5, 6, 7, 8, 9]\n"
     ]
    }
   ],
   "source": [
    "print(dl)"
   ]
  },
  {
   "cell_type": "code",
   "execution_count": 22,
   "id": "980d8bfd-aeb4-4e79-b82c-a73da377f24c",
   "metadata": {},
   "outputs": [],
   "source": [
    "dl.remove(2.5)"
   ]
  },
  {
   "cell_type": "code",
   "execution_count": 23,
   "id": "ef859682-8948-4912-90db-e588a795b50a",
   "metadata": {},
   "outputs": [
    {
     "name": "stdout",
     "output_type": "stream",
     "text": [
      "[1, 2, 3, 4, 5, 6, 0, 1, 2, 3, 4, 5, 6, 7, 8, 9]\n"
     ]
    }
   ],
   "source": [
    "print(dl)"
   ]
  },
  {
   "cell_type": "code",
   "execution_count": 24,
   "id": "deebf7e5-7209-4d9f-8878-be67c9f7a01d",
   "metadata": {},
   "outputs": [
    {
     "data": {
      "text/plain": [
       "9"
      ]
     },
     "execution_count": 24,
     "metadata": {},
     "output_type": "execute_result"
    }
   ],
   "source": [
    "dl.maximum()"
   ]
  },
  {
   "cell_type": "code",
   "execution_count": 25,
   "id": "144801f7-380b-43f9-81ee-635923addcca",
   "metadata": {},
   "outputs": [],
   "source": [
    "dl.remove_maximum()"
   ]
  },
  {
   "cell_type": "code",
   "execution_count": 26,
   "id": "ad4090b7-20c9-4f16-a711-e14821d99514",
   "metadata": {},
   "outputs": [
    {
     "data": {
      "text/plain": [
       "0"
      ]
     },
     "execution_count": 26,
     "metadata": {},
     "output_type": "execute_result"
    }
   ],
   "source": [
    "dl.minimum()"
   ]
  },
  {
   "cell_type": "code",
   "execution_count": 27,
   "id": "35def56b-69c1-4952-b4a4-46890da91a40",
   "metadata": {},
   "outputs": [],
   "source": [
    "dl.remove_minimum()"
   ]
  },
  {
   "cell_type": "code",
   "execution_count": 28,
   "id": "02a36649-7bfc-470e-bddb-f4f451c01f74",
   "metadata": {},
   "outputs": [
    {
     "data": {
      "text/plain": [
       "(8, 7, 6)"
      ]
     },
     "execution_count": 28,
     "metadata": {},
     "output_type": "execute_result"
    }
   ],
   "source": [
    "dl.maximum_3()"
   ]
  },
  {
   "cell_type": "code",
   "execution_count": 29,
   "id": "bd9655c1-f95a-4ecd-a0f8-defd4d26c61d",
   "metadata": {},
   "outputs": [
    {
     "data": {
      "text/plain": [
       "(1, 1, 2)"
      ]
     },
     "execution_count": 29,
     "metadata": {},
     "output_type": "execute_result"
    }
   ],
   "source": [
    "dl.minimum_3()"
   ]
  },
  {
   "cell_type": "code",
   "execution_count": 30,
   "id": "d7d56aad-59ac-4298-b0f1-5efd8b30ce7c",
   "metadata": {},
   "outputs": [
    {
     "name": "stdout",
     "output_type": "stream",
     "text": [
      "[1, 2, 3, 4, 5, 6, 1, 2, 3, 4, 5, 6, 7, 8]\n"
     ]
    }
   ],
   "source": [
    "print(dl)"
   ]
  },
  {
   "cell_type": "code",
   "execution_count": 31,
   "id": "16f43378-7c02-49e1-b67f-9eebb4797dac",
   "metadata": {},
   "outputs": [],
   "source": [
    "dl.reverse_doubly()"
   ]
  },
  {
   "cell_type": "code",
   "execution_count": 32,
   "id": "ff83f839-9d4a-4070-829c-5b16d5ff8575",
   "metadata": {},
   "outputs": [
    {
     "name": "stdout",
     "output_type": "stream",
     "text": [
      "[8, 7, 6, 5, 4, 3, 2, 1, 6, 5, 4, 3, 2, 1]\n"
     ]
    }
   ],
   "source": [
    "print(dl)"
   ]
  }
 ],
 "metadata": {
  "kernelspec": {
   "display_name": "Python 3 (ipykernel)",
   "language": "python",
   "name": "python3"
  },
  "language_info": {
   "codemirror_mode": {
    "name": "ipython",
    "version": 3
   },
   "file_extension": ".py",
   "mimetype": "text/x-python",
   "name": "python",
   "nbconvert_exporter": "python",
   "pygments_lexer": "ipython3",
   "version": "3.11.5"
  }
 },
 "nbformat": 4,
 "nbformat_minor": 5
}
