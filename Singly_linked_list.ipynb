{
 "cells": [
  {
   "cell_type": "code",
   "execution_count": 1,
   "id": "19b6328f-ec1e-447a-ac54-d21acb78fa17",
   "metadata": {},
   "outputs": [],
   "source": [
    "class Node:\n",
    "    def __init__(self,data=None):\n",
    "        self.val = data\n",
    "        self.next = None\n",
    "\n",
    "class LinkedList:\n",
    "    def __init__(self):\n",
    "        self.head = None"
   ]
  },
  {
   "cell_type": "code",
   "execution_count": 2,
   "id": "c98eb113-4314-412e-ac42-7db18c93060c",
   "metadata": {},
   "outputs": [],
   "source": [
    "def __str__(self):\n",
    "    ret_str = '['\n",
    "    temp = self.head\n",
    "    while temp is not None:\n",
    "        ret_str += str(temp.val) + ', '\n",
    "        temp = temp.next\n",
    "\n",
    "    ret_str = ret_str.rstrip(', ')\n",
    "    ret_str += ']'\n",
    "    return ret_str\n",
    "\n",
    "LinkedList.__str__ = __str__"
   ]
  },
  {
   "cell_type": "code",
   "execution_count": 3,
   "id": "3e32bfdf-354e-4588-a403-c792708e3e79",
   "metadata": {},
   "outputs": [],
   "source": [
    "def len(self):\n",
    "    counter = 0\n",
    "    current = self.head\n",
    "    while current is not None:\n",
    "        current = current.next\n",
    "        counter += 1\n",
    "\n",
    "    return counter\n",
    "\n",
    "LinkedList.len = len"
   ]
  },
  {
   "cell_type": "code",
   "execution_count": 4,
   "id": "6bcbedcd-7274-41a2-ad42-e18a4633fe9e",
   "metadata": {},
   "outputs": [],
   "source": [
    "def push(self,val):\n",
    "    new_node = Node(val)\n",
    "\n",
    "    #Case 1 No node currently\n",
    "    if self.head is None:\n",
    "        self.head = new_node\n",
    "        print(\"Case 1\")\n",
    "    #Case 2 Node is found \n",
    "    else:\n",
    "        last = self.head\n",
    "        while last.next is not None:\n",
    "            last = last.next\n",
    "            \n",
    "        last.next = new_node\n",
    "        print(\"Case 2\")\n",
    "\n",
    "LinkedList.push = push"
   ]
  },
  {
   "cell_type": "code",
   "execution_count": 5,
   "id": "581a02c9-96f5-4531-8416-494f761a05eb",
   "metadata": {},
   "outputs": [],
   "source": [
    "def pop(self):\n",
    "    if self.head is None:\n",
    "        raise Exception(\"Cannot Pop\")\n",
    "    if self.head.next is None:\n",
    "        val = self.head.val\n",
    "        self.head = None\n",
    "        return val\n",
    "    temp = self.head\n",
    "    while temp.next is not None:\n",
    "        prev = temp\n",
    "        temp = temp.next\n",
    "        \n",
    "    val = temp.val\n",
    "    prev.next = None\n",
    "    return val\n",
    "\n",
    "LinkedList.pop = pop"
   ]
  },
  {
   "cell_type": "code",
   "execution_count": 6,
   "id": "43e82802-adba-4227-8b7c-9fc105851ded",
   "metadata": {},
   "outputs": [],
   "source": [
    "def insert(self,index,val):\n",
    "    new_node = Node(val)\n",
    "    if index == 0:\n",
    "        new_node.next = self.head\n",
    "        self.head = new_node\n",
    "        return\n",
    "\n",
    "    temp = self.head\n",
    "    counter = 0\n",
    "    while temp is not None and counter < index:\n",
    "        prev = temp\n",
    "        temp = temp.next\n",
    "        counter += 1\n",
    "\n",
    "    prev.next = new_node\n",
    "    new_node.next = temp\n",
    "\n",
    "LinkedList.insert = insert\n",
    "    \n",
    "    "
   ]
  },
  {
   "cell_type": "code",
   "execution_count": 7,
   "id": "aec6eca5-3c8d-42b9-b99c-a0c1edbcf97b",
   "metadata": {},
   "outputs": [],
   "source": [
    "def remove(self,val):\n",
    "    temp = self.head\n",
    "\n",
    "    if temp is not None:\n",
    "        if temp.val == val:\n",
    "            print(\"Case 1\")\n",
    "            self.head = temp.next\n",
    "            temp = None\n",
    "            return\n",
    "\n",
    "    while temp is not None:\n",
    "        if temp.val == val:\n",
    "            break\n",
    "            \n",
    "        prev = temp\n",
    "        temp = temp.next\n",
    "\n",
    "    if temp is None:\n",
    "        print(\"Case 2.1\")\n",
    "        return\n",
    "    print(\"Case 2.2\")\n",
    "    prev.next = temp.next\n",
    "\n",
    "LinkedList.remove = remove\n",
    "    "
   ]
  },
  {
   "cell_type": "code",
   "execution_count": 8,
   "id": "1d63276d-de5a-4a9d-b36b-1579f97c34fa",
   "metadata": {},
   "outputs": [],
   "source": [
    "def max(self):\n",
    "    m = self.head.val\n",
    "    current = self.head.next\n",
    "    while current != None:\n",
    "        if current.val > m:\n",
    "            m = current.val\n",
    "        current = current.next\n",
    "    return m\n",
    "\n",
    "LinkedList.max = max"
   ]
  },
  {
   "cell_type": "code",
   "execution_count": 9,
   "id": "81b00dae-e869-4ffd-8190-8666df2b68b2",
   "metadata": {},
   "outputs": [],
   "source": [
    "def mini(self):\n",
    "    m = self.head.val\n",
    "    current = self.head.next\n",
    "    while current != None:\n",
    "        if current.val < m:\n",
    "            m = current.val\n",
    "        current = current.next\n",
    "    return m\n",
    "LinkedList.mini = mini"
   ]
  },
  {
   "cell_type": "code",
   "execution_count": 10,
   "id": "75a1b26a-2413-4090-8a74-69ad718f0596",
   "metadata": {},
   "outputs": [],
   "source": [
    "def highest_3(self):\n",
    "    h1 = float('-inf')\n",
    "    h2 = float('-inf')\n",
    "    h3 = float('-inf')\n",
    "    current = self.head\n",
    "    while current != None:\n",
    "        if current.val >= h1:\n",
    "            h3 = h2\n",
    "            h2 = h1\n",
    "            h1 = current.val\n",
    "        elif current.val >= h2:\n",
    "            h3 = h2\n",
    "            h2 = current.val\n",
    "        elif current.val >= h3:\n",
    "            h3 = current.val\n",
    "        current = current.next\n",
    "    return (h1,h2,h3)\n",
    "LinkedList.highest_3 = highest_3"
   ]
  },
  {
   "cell_type": "code",
   "execution_count": 11,
   "id": "a88bb333-e68f-4e25-bddb-b7c92c2c5927",
   "metadata": {},
   "outputs": [],
   "source": [
    "def lowest_3(self):\n",
    "    l1 = self.head.val\n",
    "    l2 = float('inf')\n",
    "    l3 = float('inf')\n",
    "    current = self.head\n",
    "    while current != None:\n",
    "        if current.val < l1:\n",
    "            l3 = l2\n",
    "            l2 = l1\n",
    "            l1 = current.val\n",
    "        elif current.val < l2:\n",
    "            l3 = l2\n",
    "            l2 = current.val\n",
    "        elif current.val < l3:\n",
    "            l3 = current.val\n",
    "        current = current.next\n",
    "    return (l1,l2,l3)\n",
    "LinkedList.lowest_3 = lowest_3"
   ]
  },
  {
   "cell_type": "code",
   "execution_count": 12,
   "id": "d6262ef8-34ba-4f4f-91e5-77fb085619c1",
   "metadata": {},
   "outputs": [],
   "source": [
    "def remove_max(self):\n",
    "    max = self.max()\n",
    "    return self.remove(max)\n",
    "\n",
    "LinkedList.remove_max = remove_max"
   ]
  },
  {
   "cell_type": "code",
   "execution_count": 13,
   "id": "3008f52d-6523-42cc-996d-0879a7dbd971",
   "metadata": {},
   "outputs": [],
   "source": [
    "def remove_mini(self):\n",
    "    mini = self.mini()\n",
    "    return self.remove(mini)\n",
    "LinkedList.remove_mini = remove_mini"
   ]
  },
  {
   "cell_type": "code",
   "execution_count": 14,
   "id": "76a3e16b-4eb9-403a-8bd0-5904ae0f687f",
   "metadata": {},
   "outputs": [
    {
     "name": "stdout",
     "output_type": "stream",
     "text": [
      "Case 1\n",
      "Case 2\n",
      "Case 2\n",
      "Case 2\n",
      "Case 2\n",
      "Case 2\n",
      "Case 2\n",
      "Case 2\n",
      "Case 2\n",
      "Case 2\n",
      "Case 2\n",
      "Case 2\n",
      "Case 2\n",
      "Case 2\n"
     ]
    }
   ],
   "source": [
    "ll = LinkedList()\n",
    "ll.push(0)\n",
    "ll.push(2)\n",
    "ll.push(4)\n",
    "ll.push(6)\n",
    "for i in range(0,10):\n",
    "    ll.push(i)"
   ]
  },
  {
   "cell_type": "code",
   "execution_count": 15,
   "id": "62aee215-82ba-483c-947d-016410fb0c57",
   "metadata": {},
   "outputs": [
    {
     "name": "stdout",
     "output_type": "stream",
     "text": [
      "[0, 2, 4, 6, 0, 1, 2, 3, 4, 5, 6, 7, 8, 9]\n"
     ]
    }
   ],
   "source": [
    "print(ll)"
   ]
  },
  {
   "cell_type": "code",
   "execution_count": 16,
   "id": "83ff3881-20d7-43d9-a93a-4beeac8125a9",
   "metadata": {},
   "outputs": [
    {
     "data": {
      "text/plain": [
       "7"
      ]
     },
     "execution_count": 16,
     "metadata": {},
     "output_type": "execute_result"
    }
   ],
   "source": [
    "ll.pop()\n",
    "ll.pop()\n",
    "ll.pop()"
   ]
  },
  {
   "cell_type": "code",
   "execution_count": 17,
   "id": "8e58e2c8-dfe6-42d4-b2f6-ff0e0282789d",
   "metadata": {},
   "outputs": [
    {
     "name": "stdout",
     "output_type": "stream",
     "text": [
      "[0, 2, 4, 6, 0, 1, 2, 3, 4, 5, 6]\n"
     ]
    }
   ],
   "source": [
    "print(ll)"
   ]
  },
  {
   "cell_type": "code",
   "execution_count": 18,
   "id": "b589b1da-1ae2-42a9-a401-8dc2247e8c1b",
   "metadata": {},
   "outputs": [],
   "source": [
    "ll.insert(4,1600)\n",
    "ll.insert(6,1800)\n",
    "ll.insert(2,1400)\n",
    "ll.insert(0,1500)"
   ]
  },
  {
   "cell_type": "code",
   "execution_count": 19,
   "id": "2366a30a-caab-46dd-8fae-f0b8ff2e5430",
   "metadata": {},
   "outputs": [
    {
     "name": "stdout",
     "output_type": "stream",
     "text": [
      "[1500, 0, 2, 1400, 4, 6, 1600, 0, 1800, 1, 2, 3, 4, 5, 6]\n"
     ]
    }
   ],
   "source": [
    "print(ll)"
   ]
  },
  {
   "cell_type": "code",
   "execution_count": 20,
   "id": "92aa6e55-5330-4be4-9eed-15d077e43662",
   "metadata": {},
   "outputs": [
    {
     "name": "stdout",
     "output_type": "stream",
     "text": [
      "Case 2.2\n",
      "Case 2.2\n",
      "Case 2.1\n",
      "Case 2.2\n"
     ]
    }
   ],
   "source": [
    "ll.remove(1600)\n",
    "ll.remove(1800)\n",
    "ll.remove(7)\n",
    "ll.remove(1400)\n"
   ]
  },
  {
   "cell_type": "code",
   "execution_count": 21,
   "id": "dbfdb261-7df8-40af-824b-d1eee69d5aa0",
   "metadata": {},
   "outputs": [
    {
     "name": "stdout",
     "output_type": "stream",
     "text": [
      "[1500, 0, 2, 4, 6, 0, 1, 2, 3, 4, 5, 6]\n"
     ]
    }
   ],
   "source": [
    "print(ll)"
   ]
  },
  {
   "cell_type": "code",
   "execution_count": 22,
   "id": "ff801d7d-8d14-4c95-8673-3e7b656c576e",
   "metadata": {},
   "outputs": [
    {
     "data": {
      "text/plain": [
       "12"
      ]
     },
     "execution_count": 22,
     "metadata": {},
     "output_type": "execute_result"
    }
   ],
   "source": [
    "ll.len()"
   ]
  },
  {
   "cell_type": "code",
   "execution_count": 23,
   "id": "c14d870c-682c-4b71-b1ec-b466b2821807",
   "metadata": {},
   "outputs": [
    {
     "data": {
      "text/plain": [
       "1500"
      ]
     },
     "execution_count": 23,
     "metadata": {},
     "output_type": "execute_result"
    }
   ],
   "source": [
    "ll.max()"
   ]
  },
  {
   "cell_type": "code",
   "execution_count": 24,
   "id": "951bf422-93ab-4262-8277-b0f4cb2d873b",
   "metadata": {},
   "outputs": [
    {
     "data": {
      "text/plain": [
       "0"
      ]
     },
     "execution_count": 24,
     "metadata": {},
     "output_type": "execute_result"
    }
   ],
   "source": [
    "ll.mini()"
   ]
  },
  {
   "cell_type": "code",
   "execution_count": 25,
   "id": "3b578640-9a5e-4691-940f-f67688a235df",
   "metadata": {},
   "outputs": [
    {
     "name": "stdout",
     "output_type": "stream",
     "text": [
      "Case 2.2\n",
      "Case 2.2\n"
     ]
    }
   ],
   "source": [
    "ll.remove(2)\n",
    "ll.remove(3)"
   ]
  },
  {
   "cell_type": "code",
   "execution_count": 26,
   "id": "37d780ec-c451-4503-a4b5-836b2c037318",
   "metadata": {},
   "outputs": [
    {
     "name": "stdout",
     "output_type": "stream",
     "text": [
      "[1500, 0, 4, 6, 0, 1, 2, 4, 5, 6]\n"
     ]
    }
   ],
   "source": [
    "print(ll)"
   ]
  },
  {
   "cell_type": "code",
   "execution_count": 27,
   "id": "419ccd08-e56b-425e-948a-33ac6adcc6d9",
   "metadata": {},
   "outputs": [
    {
     "data": {
      "text/plain": [
       "(1500, 6, 6)"
      ]
     },
     "execution_count": 27,
     "metadata": {},
     "output_type": "execute_result"
    }
   ],
   "source": [
    "ll.highest_3()"
   ]
  },
  {
   "cell_type": "code",
   "execution_count": 28,
   "id": "c3e2b13a-9adf-4345-aab1-ef380c65bf7a",
   "metadata": {},
   "outputs": [
    {
     "data": {
      "text/plain": [
       "(0, 0, 1)"
      ]
     },
     "execution_count": 28,
     "metadata": {},
     "output_type": "execute_result"
    }
   ],
   "source": [
    "ll.lowest_3()"
   ]
  },
  {
   "cell_type": "code",
   "execution_count": 29,
   "id": "e0fc84a4-d923-40a3-9cd0-c5a8de202b66",
   "metadata": {},
   "outputs": [
    {
     "name": "stdout",
     "output_type": "stream",
     "text": [
      "Case 2.2\n",
      "Case 2.2\n",
      "Case 2.2\n"
     ]
    },
    {
     "data": {
      "text/plain": [
       "(0, 0, 1)"
      ]
     },
     "execution_count": 29,
     "metadata": {},
     "output_type": "execute_result"
    }
   ],
   "source": [
    "ll.remove(5)\n",
    "ll.remove(6)\n",
    "ll.remove(6)\n",
    "ll.lowest_3()"
   ]
  },
  {
   "cell_type": "code",
   "execution_count": 30,
   "id": "9a5c13fa-a06e-4c23-a62b-ca4becb1155e",
   "metadata": {},
   "outputs": [
    {
     "name": "stdout",
     "output_type": "stream",
     "text": [
      "[1500, 0, 4, 0, 1, 2, 4]\n"
     ]
    }
   ],
   "source": [
    "print(ll)"
   ]
  },
  {
   "cell_type": "code",
   "execution_count": 31,
   "id": "240b39f7-da05-437f-bdde-d45a1b173874",
   "metadata": {},
   "outputs": [
    {
     "data": {
      "text/plain": [
       "(0, 0, 1)"
      ]
     },
     "execution_count": 31,
     "metadata": {},
     "output_type": "execute_result"
    }
   ],
   "source": [
    "ll.lowest_3()"
   ]
  },
  {
   "cell_type": "code",
   "execution_count": 32,
   "id": "9b13b045-2f8b-45ee-9bd1-4895465091fd",
   "metadata": {},
   "outputs": [
    {
     "data": {
      "text/plain": [
       "(1500, 4, 4)"
      ]
     },
     "execution_count": 32,
     "metadata": {},
     "output_type": "execute_result"
    }
   ],
   "source": [
    "ll.highest_3()"
   ]
  },
  {
   "cell_type": "code",
   "execution_count": 33,
   "id": "8a6a8360-7c02-4165-afea-e128ddb0026f",
   "metadata": {},
   "outputs": [
    {
     "name": "stdout",
     "output_type": "stream",
     "text": [
      "[1500, 0, 4, 0, 1, 2, 4]\n"
     ]
    }
   ],
   "source": [
    "print(ll)"
   ]
  },
  {
   "cell_type": "code",
   "execution_count": 34,
   "id": "777a1cdb-62d1-4069-9004-0e3b0df58505",
   "metadata": {},
   "outputs": [
    {
     "name": "stdout",
     "output_type": "stream",
     "text": [
      "Case 1\n"
     ]
    }
   ],
   "source": [
    "ll.remove_max()"
   ]
  },
  {
   "cell_type": "code",
   "execution_count": 35,
   "id": "07f5623a-3b16-436a-a169-6621eb3913a8",
   "metadata": {},
   "outputs": [
    {
     "name": "stdout",
     "output_type": "stream",
     "text": [
      "[0, 4, 0, 1, 2, 4]\n"
     ]
    }
   ],
   "source": [
    "print(ll)"
   ]
  },
  {
   "cell_type": "code",
   "execution_count": 46,
   "id": "6f13de14-c467-4973-aa1e-d652c7e8319c",
   "metadata": {},
   "outputs": [
    {
     "name": "stdout",
     "output_type": "stream",
     "text": [
      "Case 1\n"
     ]
    }
   ],
   "source": [
    "ll.remove_mini()"
   ]
  },
  {
   "cell_type": "code",
   "execution_count": 47,
   "id": "2c8b96cd-4f1d-48dc-8cca-a9a71c1642a1",
   "metadata": {},
   "outputs": [
    {
     "name": "stdout",
     "output_type": "stream",
     "text": [
      "[]\n"
     ]
    }
   ],
   "source": [
    "print(ll)"
   ]
  }
 ],
 "metadata": {
  "kernelspec": {
   "display_name": "Python 3 (ipykernel)",
   "language": "python",
   "name": "python3"
  },
  "language_info": {
   "codemirror_mode": {
    "name": "ipython",
    "version": 3
   },
   "file_extension": ".py",
   "mimetype": "text/x-python",
   "name": "python",
   "nbconvert_exporter": "python",
   "pygments_lexer": "ipython3",
   "version": "3.11.5"
  }
 },
 "nbformat": 4,
 "nbformat_minor": 5
}
