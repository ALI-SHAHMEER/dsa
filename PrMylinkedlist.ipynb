{
 "cells": [
  {
   "cell_type": "markdown",
   "id": "93f053aa-7314-4cc4-9400-b38490a47206",
   "metadata": {},
   "source": [
    "# Linked List"
   ]
  },
  {
   "cell_type": "code",
   "execution_count": 1,
   "id": "72505946-af2f-4dfb-99b0-f53204615d17",
   "metadata": {},
   "outputs": [],
   "source": [
    "class Node:\n",
    "    def __init__(self,val=None):\n",
    "        self.val = val\n",
    "        self.next = None\n",
    "\n",
    "class LinkList:\n",
    "    def __init__(self):\n",
    "        self.head = None"
   ]
  },
  {
   "cell_type": "markdown",
   "id": "fc0258ad-d1ad-4b50-8906-7236dc4c5a68",
   "metadata": {},
   "source": [
    "# String Function"
   ]
  },
  {
   "cell_type": "code",
   "execution_count": 2,
   "id": "d13ad275-be8e-4de2-8213-cc19d48268b1",
   "metadata": {},
   "outputs": [],
   "source": [
    "def __str__(self):\n",
    "    ret_str = '['\n",
    "    temp = self.head\n",
    "    while temp.next is not None:\n",
    "        ret_str += str(temp.val)+', '\n",
    "        temp = temp.next\n",
    "\n",
    "    ret_str = ret_str.rstrip(', ')\n",
    "    ret_str += ']'\n",
    "    return ret_str\n",
    "\n",
    "LinkList.__str__= __str__"
   ]
  },
  {
   "cell_type": "markdown",
   "id": "56336ba8-ff1d-47ed-a818-8fae177d1243",
   "metadata": {},
   "source": [
    "# Push Function"
   ]
  },
  {
   "cell_type": "code",
   "execution_count": 3,
   "id": "3df54789-a8aa-4de7-88a3-992f3819b0fe",
   "metadata": {},
   "outputs": [],
   "source": [
    "def push(self,val):\n",
    "    new_node = Node(val)\n",
    "\n",
    "    #No node currently\n",
    "    if self.head is None:\n",
    "        self.head = new_node\n",
    "        print(\"Case 1\")\n",
    "    else:\n",
    "        # otherwise reach the end and then insert\n",
    "        last = self.head\n",
    "        while last.next is not None:\n",
    "            last = last.next\n",
    "\n",
    "        last.next = new_node\n",
    "        print(\"Case 2\")\n",
    "LinkList.push = push"
   ]
  },
  {
   "cell_type": "markdown",
   "id": "0e266ef2-8fc2-4e7f-a5e9-d9a88601720c",
   "metadata": {},
   "source": [
    "# Pop Function"
   ]
  },
  {
   "cell_type": "code",
   "execution_count": 4,
   "id": "f4949db6-e150-4d84-9d0e-c185305ca3fa",
   "metadata": {},
   "outputs": [],
   "source": [
    "def pop(self):\n",
    "    if self.head is None:\n",
    "        raise Exception(\"Cannot Pop. No Value Found\")\n",
    "        print('Case 1')\n",
    "\n",
    "    if self.head.next is None:\n",
    "        print('Case 2')\n",
    "        val = self.head.next\n",
    "        self.head = None\n",
    "        return val\n",
    "        \n",
    "    temp = self.head\n",
    "    print('Case 2.1')\n",
    "    while temp.next is not None:\n",
    "        prev = temp\n",
    "        temp = temp.next\n",
    "\n",
    "    val= temp.val\n",
    "    prev.next = None\n",
    "    return \n",
    "\n",
    "LinkList.pop = pop"
   ]
  },
  {
   "cell_type": "markdown",
   "id": "63b85268-caa2-41ff-925d-a6287692cec3",
   "metadata": {},
   "source": [
    "# Insert Function"
   ]
  },
  {
   "cell_type": "code",
   "execution_count": 5,
   "id": "f5391bec-c509-4f16-9d46-e0e1ba48c7eb",
   "metadata": {},
   "outputs": [],
   "source": [
    "def insert(self,index,val):\n",
    "    #First\n",
    "    new_node = Node(val)\n",
    "    if index == 0:\n",
    "        new_node.next = self.head\n",
    "        self.head = new_node  \n",
    "        print(\"case 1\")\n",
    "        return\n",
    "    temp = self.head\n",
    "    counter = 0\n",
    "    while temp is not None and counter < index:\n",
    "        prev = temp\n",
    "        temp = temp.next\n",
    "        counter += 1\n",
    "\n",
    "    prev.next = new_node\n",
    "    new_node.next = temp\n",
    "    print(\"case 2\")\n",
    "\n",
    "\n",
    "LinkList.insert = insert"
   ]
  },
  {
   "cell_type": "markdown",
   "id": "11e16e7a-5b1b-4394-a42d-03b0dee41207",
   "metadata": {},
   "source": [
    "# Remove Function"
   ]
  },
  {
   "cell_type": "code",
   "execution_count": 6,
   "id": "fdc26815-70a1-4776-8d07-042edc7e783b",
   "metadata": {},
   "outputs": [],
   "source": [
    "def remove(self,val):\n",
    "    temp = self.head\n",
    "    if temp is None:\n",
    "        print(\"Case 1\")\n",
    "        return \n",
    "    if temp is not None:\n",
    "        if temp.val == val:\n",
    "            self.head = temp.next\n",
    "            temp = None\n",
    "            print(\"Case 2\")\n",
    "            return\n",
    "\n",
    "    while temp is not None and temp.next is not None:\n",
    "        if temp.val == val:\n",
    "            break\n",
    "        prev = temp\n",
    "        temp = temp.next\n",
    "    if temp is None:\n",
    "        print(\"Case 1.5\")\n",
    "        return \n",
    "        \n",
    "    prev.next = temp.next\n",
    "    print(\"Case 2\")\n",
    "        \n",
    "        \n",
    "    \n",
    "\n",
    "LinkList.remove = remove"
   ]
  },
  {
   "cell_type": "markdown",
   "id": "31bd9371-5cba-4d44-aa8a-8e2c73fedb0d",
   "metadata": {},
   "source": [
    "# Code Test"
   ]
  },
  {
   "cell_type": "code",
   "execution_count": 7,
   "id": "c088bf28-f6ec-4a75-9e61-7f8533951efc",
   "metadata": {},
   "outputs": [
    {
     "name": "stdout",
     "output_type": "stream",
     "text": [
      "Case 1\n",
      "Case 2\n",
      "Case 2\n",
      "Case 2\n",
      "Case 2\n",
      "Case 2\n",
      "Case 2\n",
      "Case 2\n",
      "Case 2\n",
      "Case 2\n"
     ]
    }
   ],
   "source": [
    "l = LinkList()\n",
    "for i in range(1,11):\n",
    "    l.push(i)"
   ]
  },
  {
   "cell_type": "code",
   "execution_count": 8,
   "id": "d1304933-5f34-472e-a51a-13b733e965ea",
   "metadata": {},
   "outputs": [
    {
     "name": "stdout",
     "output_type": "stream",
     "text": [
      "[1, 2, 3, 4, 5, 6, 7, 8, 9]\n"
     ]
    }
   ],
   "source": [
    "print(l)"
   ]
  },
  {
   "cell_type": "code",
   "execution_count": 9,
   "id": "8e4e257e-a7b9-4be8-b44e-9d7e296006e4",
   "metadata": {},
   "outputs": [
    {
     "name": "stdout",
     "output_type": "stream",
     "text": [
      "Case 2.1\n",
      "Case 2.1\n",
      "Case 2.1\n",
      "Case 2.1\n"
     ]
    }
   ],
   "source": [
    "l.pop()\n",
    "l.pop()\n",
    "l.pop()\n",
    "l.pop()"
   ]
  },
  {
   "cell_type": "code",
   "execution_count": 10,
   "id": "80daeb7c-f33e-43f9-864b-8d91bd8aa20b",
   "metadata": {},
   "outputs": [
    {
     "name": "stdout",
     "output_type": "stream",
     "text": [
      "[1, 2, 3, 4, 5]\n"
     ]
    }
   ],
   "source": [
    "print(l)"
   ]
  },
  {
   "cell_type": "code",
   "execution_count": 11,
   "id": "5b60a54d-6a4b-4191-b180-e021bec93735",
   "metadata": {},
   "outputs": [
    {
     "name": "stdout",
     "output_type": "stream",
     "text": [
      "case 1\n",
      "case 2\n",
      "case 2\n"
     ]
    }
   ],
   "source": [
    "l.insert(0,100)\n",
    "l.insert(6,5.5)\n",
    "l.insert(2,2.5)"
   ]
  },
  {
   "cell_type": "code",
   "execution_count": 12,
   "id": "b8cbfd74-5bcd-4b21-ac6e-e88e89fdc5b6",
   "metadata": {},
   "outputs": [
    {
     "name": "stdout",
     "output_type": "stream",
     "text": [
      "[100, 1, 2.5, 2, 3, 4, 5, 5.5]\n"
     ]
    }
   ],
   "source": [
    "print(l)"
   ]
  },
  {
   "cell_type": "code",
   "execution_count": 13,
   "id": "5ec03054-d6b4-44e5-a6e0-bba1162c4baa",
   "metadata": {},
   "outputs": [
    {
     "name": "stdout",
     "output_type": "stream",
     "text": [
      "Case 2\n"
     ]
    }
   ],
   "source": [
    "l.remove(100)"
   ]
  },
  {
   "cell_type": "code",
   "execution_count": 14,
   "id": "148523ad-64b8-41af-a69a-7b1094d55666",
   "metadata": {},
   "outputs": [
    {
     "name": "stdout",
     "output_type": "stream",
     "text": [
      "[1, 2.5, 2, 3, 4, 5, 5.5]\n"
     ]
    }
   ],
   "source": [
    "print(l)"
   ]
  },
  {
   "cell_type": "code",
   "execution_count": 15,
   "id": "2f9f6aed-4c59-410f-9134-0f8481f95b83",
   "metadata": {},
   "outputs": [
    {
     "name": "stdout",
     "output_type": "stream",
     "text": [
      "Case 1.5\n"
     ]
    }
   ],
   "source": [
    "l.remove(100)"
   ]
  },
  {
   "cell_type": "code",
   "execution_count": 16,
   "id": "683b3ea7-2963-4eaf-aff0-925bca896d91",
   "metadata": {},
   "outputs": [
    {
     "name": "stdout",
     "output_type": "stream",
     "text": [
      "Case 2\n"
     ]
    }
   ],
   "source": [
    "l.remove(2.5)"
   ]
  },
  {
   "cell_type": "code",
   "execution_count": 17,
   "id": "6e63e898-0d3c-4d24-8ec7-32899d5e3161",
   "metadata": {},
   "outputs": [
    {
     "name": "stdout",
     "output_type": "stream",
     "text": [
      "[1, 2, 3, 4, 5, 5.5]\n"
     ]
    }
   ],
   "source": [
    "print(l)"
   ]
  },
  {
   "cell_type": "code",
   "execution_count": 18,
   "id": "8c162950-0a89-409a-895a-9c6c9632437a",
   "metadata": {},
   "outputs": [
    {
     "name": "stdout",
     "output_type": "stream",
     "text": [
      "Case 2\n"
     ]
    }
   ],
   "source": [
    "l.remove(5.5)"
   ]
  },
  {
   "cell_type": "code",
   "execution_count": 19,
   "id": "c95fab1f-4d57-48e5-ba9b-64c376e4f705",
   "metadata": {},
   "outputs": [
    {
     "name": "stdout",
     "output_type": "stream",
     "text": [
      "[1, 2, 3, 4, 5]\n"
     ]
    }
   ],
   "source": [
    "print(l)"
   ]
  }
 ],
 "metadata": {
  "kernelspec": {
   "display_name": "Python 3 (ipykernel)",
   "language": "python",
   "name": "python3"
  },
  "language_info": {
   "codemirror_mode": {
    "name": "ipython",
    "version": 3
   },
   "file_extension": ".py",
   "mimetype": "text/x-python",
   "name": "python",
   "nbconvert_exporter": "python",
   "pygments_lexer": "ipython3",
   "version": "3.11.5"
  }
 },
 "nbformat": 4,
 "nbformat_minor": 5
}
