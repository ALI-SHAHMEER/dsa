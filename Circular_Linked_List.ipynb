{
 "cells": [
  {
   "cell_type": "code",
   "execution_count": 1,
   "id": "db3d676c-4aa3-4d23-a8ef-7668b4ebf27d",
   "metadata": {},
   "outputs": [],
   "source": [
    "class Node:\n",
    "    def __init__(self,data=None):\n",
    "        self.data = data\n",
    "        self.next = None\n",
    "\n",
    "class Ring:\n",
    "    def __init__(self):\n",
    "        self.head = None"
   ]
  },
  {
   "cell_type": "code",
   "execution_count": 2,
   "id": "ed30317f-a103-44d2-845c-ad9b241f38c5",
   "metadata": {},
   "outputs": [],
   "source": [
    "def __str__(self):\n",
    "    ret_str = '['\n",
    "    current = self.head\n",
    "    while current is not None: #Case 1 No Node found\n",
    "        ret_str += str(current.data)+', '\n",
    "        current = current.next\n",
    "        if current == self.head: # Condition checking\n",
    "            break # Case 2 Aleast 1 Node Found\n",
    "\n",
    "    ret_str = ret_str.rstrip(', ')\n",
    "    ret_str += ']'\n",
    "    return ret_str\n",
    "\n",
    "Ring.__str__ = __str__"
   ]
  },
  {
   "cell_type": "code",
   "execution_count": 3,
   "id": "c8916518-f1a6-47a0-b7df-ebf17b91d468",
   "metadata": {},
   "outputs": [],
   "source": [
    "def last(self):\n",
    "    if self.head is None:\n",
    "        return None\n",
    "\n",
    "    current = self.head\n",
    "    while current.next != self.head:\n",
    "        current = current.next\n",
    "\n",
    "    return current\n",
    "\n",
    "Ring.last = last    "
   ]
  },
  {
   "cell_type": "code",
   "execution_count": 4,
   "id": "3846e3da-691f-4b10-b224-374d257d8eb2",
   "metadata": {},
   "outputs": [],
   "source": [
    "def insert(self,index,val):\n",
    "    last = self.last() \n",
    "    new_node = Node(val) \n",
    "    if index == 0:\n",
    "        new_node.next = self.head\n",
    "        self.head = new_node\n",
    "\n",
    "        if last is None:\n",
    "            self.head.next = self.head #if no node found\n",
    "        else:\n",
    "            last.next = new_node\n",
    "        return\n",
    "    \n",
    "    if self.head is not None:\n",
    "        current = self.head\n",
    "        counter = 0\n",
    "        while current is not None and counter < index:\n",
    "            prev = current\n",
    "            current = current.next\n",
    "            counter += 1\n",
    "        prev.next = new_node\n",
    "        new_node.next = current\n",
    "    else:\n",
    "        raise IndexError(\"Could not insert on given index\")\n",
    " \n",
    "Ring.insert = insert"
   ]
  },
  {
   "cell_type": "code",
   "execution_count": 5,
   "id": "602601d7-4bb9-4ea5-ae2b-58ab311e6121",
   "metadata": {},
   "outputs": [],
   "source": [
    "def remove(self,val):\n",
    "    if self.head is None:\n",
    "        return\n",
    "    current = self.head\n",
    "    last = self.last()\n",
    "    if current.data == val: # Found at 0 index\n",
    "        if last == self.head: # Check if last is equal to head\n",
    "            self.head = None\n",
    "        else: # atleast two nodes\n",
    "            self.head = current.next\n",
    "            current = self.head\n",
    "        return\n",
    "    prev = current\n",
    "    current = current.next\n",
    "    while current != self.head:\n",
    "        if current.data == val:\n",
    "            break\n",
    "        prev = current\n",
    "        current = current.next\n",
    "\n",
    "    if current == self.head: #Not Found\n",
    "        return\n",
    "\n",
    "    prev.next = current.next\n",
    "\n",
    "Ring.remove = remove"
   ]
  },
  {
   "cell_type": "code",
   "execution_count": 6,
   "id": "84473ae7-d98f-4f38-b3d3-6736420aa8f8",
   "metadata": {},
   "outputs": [],
   "source": [
    "def len(self):\n",
    "    if self.head is None:\n",
    "        return 0\n",
    "    count = 1\n",
    "    current = self.head.next\n",
    "    while current != self.head:\n",
    "        count += 1\n",
    "        current = current.next\n",
    "    return count\n",
    "Ring.len = len"
   ]
  },
  {
   "cell_type": "code",
   "execution_count": 7,
   "id": "6503b42f-ba56-46f7-bcd5-09b24b02d588",
   "metadata": {},
   "outputs": [],
   "source": [
    "def push(self,val):\n",
    "    new_node = Node(val)\n",
    "    if self.head is None:\n",
    "        self.head = new_node\n",
    "        new_node.next = self.head\n",
    "        return\n",
    "    last = self.last()\n",
    "    last.next = new_node\n",
    "    new_node.next = self.head\n",
    "\n",
    "    return\n",
    "        \n",
    "        \n",
    "Ring.push = push"
   ]
  },
  {
   "cell_type": "code",
   "execution_count": 8,
   "id": "27809f52-047a-4258-ab7c-22544bb88c1e",
   "metadata": {},
   "outputs": [],
   "source": [
    "def pop(self):\n",
    "    if self.head is None:\n",
    "        return \"Cannot Pop\"\n",
    "    elif self.head.next == self.head:\n",
    "        val = self.head.data\n",
    "        self.head = None\n",
    "        return val\n",
    "    else:\n",
    "        current = self.head.next\n",
    "        prev = self.head\n",
    "        while current.next != self.head:\n",
    "            prev = current\n",
    "            current = current.next\n",
    "        val = current.data\n",
    "        prev.next = self.head\n",
    "        return val\n",
    "Ring.pop = pop"
   ]
  },
  {
   "cell_type": "code",
   "execution_count": 9,
   "id": "43d04c20-6ac4-4a7a-9ebd-f1515196b9fd",
   "metadata": {},
   "outputs": [],
   "source": [
    "def get(self, val):\n",
    "    current = self.head\n",
    "    last = self.last()\n",
    "    while current != last:\n",
    "        if current.data == val:\n",
    "            print(f\"Found\")\n",
    "            return\n",
    "        current = current.next\n",
    "        return \"Not Found\"\n",
    "Ring.get = get"
   ]
  },
  {
   "cell_type": "code",
   "execution_count": 10,
   "id": "dff9d966-d5c0-404e-a232-daea0cc6d04d",
   "metadata": {},
   "outputs": [],
   "source": [
    "r = Ring()"
   ]
  },
  {
   "cell_type": "code",
   "execution_count": 11,
   "id": "0f6500d6-498a-4380-ac4b-36a763525f7d",
   "metadata": {},
   "outputs": [
    {
     "name": "stdout",
     "output_type": "stream",
     "text": [
      "[666]\n"
     ]
    }
   ],
   "source": [
    "r.insert(0,666)\n",
    "print(r)"
   ]
  },
  {
   "cell_type": "code",
   "execution_count": 12,
   "id": "6873ffcf-d6d6-4e8e-b819-0b85fa1338f5",
   "metadata": {},
   "outputs": [
    {
     "name": "stdout",
     "output_type": "stream",
     "text": [
      "[666, 0]\n"
     ]
    }
   ],
   "source": [
    "r.insert(777,0)\n",
    "print(r)"
   ]
  },
  {
   "cell_type": "code",
   "execution_count": 13,
   "id": "b141ba58-c1a1-42d7-bd42-b5f164ec8d02",
   "metadata": {},
   "outputs": [
    {
     "data": {
      "text/plain": [
       "True"
      ]
     },
     "execution_count": 13,
     "metadata": {},
     "output_type": "execute_result"
    }
   ],
   "source": [
    "r.last().next == r.head"
   ]
  },
  {
   "cell_type": "code",
   "execution_count": 14,
   "id": "17ef43c1-be5a-4445-8a0f-793e5f9667c2",
   "metadata": {},
   "outputs": [
    {
     "name": "stdout",
     "output_type": "stream",
     "text": [
      "[666, 0.5, 0]\n"
     ]
    }
   ],
   "source": [
    "r.insert(1,0.5)\n",
    "print(r)"
   ]
  },
  {
   "cell_type": "code",
   "execution_count": 15,
   "id": "22a0d788-879d-43d6-baf1-9c58df16dd4c",
   "metadata": {},
   "outputs": [
    {
     "name": "stdout",
     "output_type": "stream",
     "text": [
      "[666, 0.5, 0, 1.5]\n"
     ]
    }
   ],
   "source": [
    "r.insert(3,1.5)\n",
    "print(r)"
   ]
  },
  {
   "cell_type": "code",
   "execution_count": 16,
   "id": "e3ea5c07-dfa8-4186-a810-2a3a7b4c7700",
   "metadata": {},
   "outputs": [
    {
     "name": "stdout",
     "output_type": "stream",
     "text": [
      "[666, 0.5, 0, 7, 1.5]\n"
     ]
    }
   ],
   "source": [
    "r.insert(7,7)\n",
    "print(r)"
   ]
  },
  {
   "cell_type": "code",
   "execution_count": 17,
   "id": "ec78755b-e9be-4233-884f-556db8c470a5",
   "metadata": {},
   "outputs": [
    {
     "name": "stdout",
     "output_type": "stream",
     "text": [
      "[0.5, 0, 7, 1.5, 666]\n"
     ]
    }
   ],
   "source": [
    "r.remove(666)\n",
    "print(r)"
   ]
  },
  {
   "cell_type": "code",
   "execution_count": 18,
   "id": "acac7f8c-b8c8-4bc3-8788-13a98a1b22b2",
   "metadata": {},
   "outputs": [
    {
     "name": "stdout",
     "output_type": "stream",
     "text": [
      "[0.5, 7, 1.5, 666]\n"
     ]
    }
   ],
   "source": [
    "r.remove(0)\n",
    "print(r)"
   ]
  },
  {
   "cell_type": "code",
   "execution_count": 19,
   "id": "a19c7a07-89f1-48bf-9dda-a97721c76514",
   "metadata": {},
   "outputs": [
    {
     "name": "stdout",
     "output_type": "stream",
     "text": [
      "[0.5, 7, 1.5]\n"
     ]
    }
   ],
   "source": [
    "r.remove(666)\n",
    "print(r)"
   ]
  },
  {
   "cell_type": "code",
   "execution_count": 20,
   "id": "91293401-1e08-4115-8382-3b05b4f874d6",
   "metadata": {},
   "outputs": [
    {
     "data": {
      "text/plain": [
       "'Not Found'"
      ]
     },
     "execution_count": 20,
     "metadata": {},
     "output_type": "execute_result"
    }
   ],
   "source": [
    "r.get(666)"
   ]
  },
  {
   "cell_type": "code",
   "execution_count": 21,
   "id": "6d685f0f-dea3-4e00-8f81-7a997d3d638b",
   "metadata": {},
   "outputs": [
    {
     "data": {
      "text/plain": [
       "3"
      ]
     },
     "execution_count": 21,
     "metadata": {},
     "output_type": "execute_result"
    }
   ],
   "source": [
    "r.len()"
   ]
  },
  {
   "cell_type": "code",
   "execution_count": 22,
   "id": "4849475f-6e1c-4298-ac5c-345c65a2c76f",
   "metadata": {},
   "outputs": [
    {
     "data": {
      "text/plain": [
       "5"
      ]
     },
     "execution_count": 22,
     "metadata": {},
     "output_type": "execute_result"
    }
   ],
   "source": [
    "r2 = Ring()\n",
    "r2.push(0)\n",
    "r2.push(2)\n",
    "r2.push(3)\n",
    "r2.push(6)\n",
    "r2.push(7)\n",
    "r2.len()"
   ]
  },
  {
   "cell_type": "code",
   "execution_count": 23,
   "id": "b0f78ddf-f6d0-4eac-8c1e-514a38ce7966",
   "metadata": {},
   "outputs": [
    {
     "name": "stdout",
     "output_type": "stream",
     "text": [
      "[0, 2, 3, 6, 7]\n"
     ]
    }
   ],
   "source": [
    "print(r2)"
   ]
  },
  {
   "cell_type": "code",
   "execution_count": 24,
   "id": "2039632c-3ad7-4026-a97b-953e6eadf26e",
   "metadata": {},
   "outputs": [
    {
     "data": {
      "text/plain": [
       "7"
      ]
     },
     "execution_count": 24,
     "metadata": {},
     "output_type": "execute_result"
    }
   ],
   "source": [
    "r2.pop()"
   ]
  },
  {
   "cell_type": "code",
   "execution_count": 25,
   "id": "a674e084-586a-4c61-a3f0-9f45f1953323",
   "metadata": {},
   "outputs": [
    {
     "name": "stdout",
     "output_type": "stream",
     "text": [
      "[0, 2, 3, 6]\n"
     ]
    }
   ],
   "source": [
    "print(r2)"
   ]
  },
  {
   "cell_type": "code",
   "execution_count": 26,
   "id": "38a9fe16-b31a-4fe8-92b4-5c8a6ec5b9ca",
   "metadata": {},
   "outputs": [
    {
     "data": {
      "text/plain": [
       "6"
      ]
     },
     "execution_count": 26,
     "metadata": {},
     "output_type": "execute_result"
    }
   ],
   "source": [
    "r2.pop()"
   ]
  },
  {
   "cell_type": "code",
   "execution_count": 27,
   "id": "85cddb73-4ef6-46d5-9660-737e3ddbfba0",
   "metadata": {},
   "outputs": [
    {
     "name": "stdout",
     "output_type": "stream",
     "text": [
      "[0, 2, 3]\n"
     ]
    }
   ],
   "source": [
    "print(r2)"
   ]
  },
  {
   "cell_type": "code",
   "execution_count": 28,
   "id": "3e2774c3-7451-47f2-be42-262f899f67b0",
   "metadata": {},
   "outputs": [
    {
     "data": {
      "text/plain": [
       "3"
      ]
     },
     "execution_count": 28,
     "metadata": {},
     "output_type": "execute_result"
    }
   ],
   "source": [
    "r2.pop()"
   ]
  },
  {
   "cell_type": "code",
   "execution_count": 29,
   "id": "f23e5dc3-a99a-4c59-a5ac-41959a674ba6",
   "metadata": {},
   "outputs": [
    {
     "name": "stdout",
     "output_type": "stream",
     "text": [
      "[0, 2]\n"
     ]
    }
   ],
   "source": [
    "print(r2)"
   ]
  },
  {
   "cell_type": "code",
   "execution_count": 30,
   "id": "c8306bf2-3ad0-4ce4-8d93-94386dd6c0aa",
   "metadata": {},
   "outputs": [
    {
     "data": {
      "text/plain": [
       "2"
      ]
     },
     "execution_count": 30,
     "metadata": {},
     "output_type": "execute_result"
    }
   ],
   "source": [
    "r2.pop()"
   ]
  },
  {
   "cell_type": "code",
   "execution_count": 31,
   "id": "70d86f18-9d5f-4842-a6b0-106a76a5d10d",
   "metadata": {},
   "outputs": [
    {
     "data": {
      "text/plain": [
       "0"
      ]
     },
     "execution_count": 31,
     "metadata": {},
     "output_type": "execute_result"
    }
   ],
   "source": [
    "r2.pop()"
   ]
  },
  {
   "cell_type": "code",
   "execution_count": 32,
   "id": "c98d8242-0506-4ce4-8b72-2fd47890b1b2",
   "metadata": {},
   "outputs": [
    {
     "name": "stdout",
     "output_type": "stream",
     "text": [
      "[]\n"
     ]
    }
   ],
   "source": [
    "print(r2)"
   ]
  }
 ],
 "metadata": {
  "kernelspec": {
   "display_name": "Python 3 (ipykernel)",
   "language": "python",
   "name": "python3"
  },
  "language_info": {
   "codemirror_mode": {
    "name": "ipython",
    "version": 3
   },
   "file_extension": ".py",
   "mimetype": "text/x-python",
   "name": "python",
   "nbconvert_exporter": "python",
   "pygments_lexer": "ipython3",
   "version": "3.11.5"
  }
 },
 "nbformat": 4,
 "nbformat_minor": 5
}
