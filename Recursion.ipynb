{
 "cells": [
  {
   "cell_type": "markdown",
   "id": "8e3abe7a-ac34-48d2-8cc6-7bce0bf356eb",
   "metadata": {},
   "source": [
    "# Factorial"
   ]
  },
  {
   "cell_type": "code",
   "execution_count": 1,
   "id": "1ecf5477-8e95-432c-a6a8-dfeea2cde360",
   "metadata": {},
   "outputs": [],
   "source": [
    "def factorial(number):\n",
    "    if number <= 1: # Base Case\n",
    "        return 1\n",
    "    return number * factorial(number - 1) # Induction Case\n",
    "    # Since the number operand need to perform multiplication that is head recursion"
   ]
  },
  {
   "cell_type": "code",
   "execution_count": 2,
   "id": "f929550a-455c-49de-9fe4-84979545bfcc",
   "metadata": {},
   "outputs": [
    {
     "name": "stdout",
     "output_type": "stream",
     "text": [
      "The factorial of 0! is 1\n",
      "The factorial of 1! is 1\n",
      "The factorial of 2! is 2\n",
      "The factorial of 3! is 6\n",
      "The factorial of 4! is 24\n",
      "The factorial of 5! is 120\n",
      "The factorial of 6! is 720\n"
     ]
    }
   ],
   "source": [
    "for i in range(0,7):\n",
    "    print(f'The factorial of {i}! is {factorial(i)}')"
   ]
  },
  {
   "cell_type": "markdown",
   "id": "f731fff2-a2d3-47c3-aeab-02cb451946da",
   "metadata": {},
   "source": [
    "# Fibonacci sequence"
   ]
  },
  {
   "cell_type": "code",
   "execution_count": 3,
   "id": "b17427be-b277-470e-b3a1-eb40d99d64f7",
   "metadata": {},
   "outputs": [],
   "source": [
    "# Fibonacci using Recursion\n",
    "def fib(n):\n",
    "    if n <= 1: # Base Case\n",
    "        return 1\n",
    "\n",
    "    return fib(n - 1) + fib(n - 2) # Induction Case"
   ]
  },
  {
   "cell_type": "code",
   "execution_count": 4,
   "id": "942f524a-5621-434c-8290-2e00605649ef",
   "metadata": {},
   "outputs": [
    {
     "name": "stdout",
     "output_type": "stream",
     "text": [
      "1.89 ms ± 137 µs per loop (mean ± std. dev. of 7 runs, 1,000 loops each)\n"
     ]
    }
   ],
   "source": [
    "%timeit fib(20)"
   ]
  },
  {
   "cell_type": "markdown",
   "id": "e20d6151-bb4d-4a5e-8f4f-1df3013add26",
   "metadata": {},
   "source": [
    "# Fibonacci using Iterative "
   ]
  },
  {
   "cell_type": "code",
   "execution_count": 5,
   "id": "837138af-d204-48fd-ac84-f7a3e0ebbc89",
   "metadata": {},
   "outputs": [],
   "source": [
    "def fib(n):\n",
    "    a , b = 0 , 1\n",
    "    for i in range(n):\n",
    "        a , b = b , a + b\n",
    "\n",
    "    return a"
   ]
  },
  {
   "cell_type": "code",
   "execution_count": 6,
   "id": "679f11d5-d6c2-432b-992c-fc6130e15f88",
   "metadata": {},
   "outputs": [
    {
     "name": "stdout",
     "output_type": "stream",
     "text": [
      "803 ns ± 220 ns per loop (mean ± std. dev. of 7 runs, 1,000,000 loops each)\n"
     ]
    }
   ],
   "source": [
    "%timeit fib(20)"
   ]
  },
  {
   "cell_type": "markdown",
   "id": "532a23f7-a556-45ff-b69c-9d246cb9d95c",
   "metadata": {},
   "source": [
    "# Fibonacci using Recursion + Iterative"
   ]
  },
  {
   "cell_type": "code",
   "execution_count": 7,
   "id": "dab704c4-d309-47e9-b393-8254fa5eec66",
   "metadata": {},
   "outputs": [],
   "source": [
    "def fib(n,a = 0,b = 1):\n",
    "    if n == 0:\n",
    "        return a\n",
    "\n",
    "    return fib(n-1 , b , a+b)\n",
    "    # since everything is done at last call, this is called tail recursion"
   ]
  },
  {
   "cell_type": "code",
   "execution_count": 8,
   "id": "873d3109-83a2-4492-806a-fa4c7c28e601",
   "metadata": {},
   "outputs": [
    {
     "name": "stdout",
     "output_type": "stream",
     "text": [
      "2.04 µs ± 30.3 ns per loop (mean ± std. dev. of 7 runs, 1,000,000 loops each)\n"
     ]
    }
   ],
   "source": [
    "%timeit fib(20)"
   ]
  },
  {
   "cell_type": "markdown",
   "id": "065b0f83-9aec-4e8e-a333-1ca73a416392",
   "metadata": {},
   "source": [
    "# Tower of Hanoi"
   ]
  },
  {
   "cell_type": "code",
   "execution_count": 5,
   "id": "a66263e6-a329-4e03-8144-c257754cc7f5",
   "metadata": {},
   "outputs": [],
   "source": [
    "def tower(disk,source,auxliary,target):\n",
    "    if disk == 1:\n",
    "        print(f\"Move Disk 1 from {source} to {target}\")\n",
    "        return\n",
    "\n",
    "    tower(disk - 1, source, target, auxliary)\n",
    "    print(f\"Move Disk {disk} from {source} to {target}\")\n",
    "    tower(disk - 1, auxliary, source, target)\n",
    "    "
   ]
  },
  {
   "cell_type": "code",
   "execution_count": 6,
   "id": "e068e7df-910c-436c-8c0a-89e27c996181",
   "metadata": {},
   "outputs": [
    {
     "name": "stdout",
     "output_type": "stream",
     "text": [
      "Move Disk 1 from A to C\n",
      "Move Disk 2 from A to B\n",
      "Move Disk 1 from C to B\n",
      "Move Disk 3 from A to C\n",
      "Move Disk 1 from B to A\n",
      "Move Disk 2 from B to C\n",
      "Move Disk 1 from A to C\n"
     ]
    }
   ],
   "source": [
    "tower(3,\"A\",\"B\",\"C\")"
   ]
  },
  {
   "cell_type": "code",
   "execution_count": 8,
   "id": "ef775617-3c77-4e6f-9863-66b77b8403b6",
   "metadata": {},
   "outputs": [
    {
     "name": "stdout",
     "output_type": "stream",
     "text": [
      "Move Disk 1 from A to B\n",
      "Move Disk 2 from A to C\n",
      "Move Disk 1 from B to C\n"
     ]
    }
   ],
   "source": [
    "tower(2,\"A\",\"B\",\"C\")"
   ]
  },
  {
   "cell_type": "markdown",
   "id": "80b660c7-dd58-4187-ab78-bcb74257c3c8",
   "metadata": {},
   "source": [
    "# Sum Over a List"
   ]
  },
  {
   "cell_type": "code",
   "execution_count": 1,
   "id": "36d4e96d-b8be-41fb-9e92-da60408f0838",
   "metadata": {},
   "outputs": [],
   "source": [
    "def sum_of_list(list):\n",
    "    sum = 0\n",
    "    for i in list:\n",
    "        sum += i\n",
    "\n",
    "    return sum"
   ]
  },
  {
   "cell_type": "code",
   "execution_count": 5,
   "id": "21e69ce2-5257-423c-bc10-a4f80d0c5c6b",
   "metadata": {},
   "outputs": [
    {
     "name": "stdout",
     "output_type": "stream",
     "text": [
      "323 ns ± 94.5 ns per loop (mean ± std. dev. of 7 runs, 1,000,000 loops each)\n"
     ]
    }
   ],
   "source": [
    "%timeit sum_of_list([1,2,3,4,5,6,7,8,9,10])"
   ]
  },
  {
   "cell_type": "code",
   "execution_count": 8,
   "id": "61bca9bc-02ab-4c9b-9b83-a4579af5cf81",
   "metadata": {},
   "outputs": [],
   "source": [
    "def sum_of_list_recursive(list):\n",
    "    if len(list) == 0:\n",
    "        return 0\n",
    "\n",
    "    return list[0] + sum_of_list_recursive(list[1:])"
   ]
  },
  {
   "cell_type": "code",
   "execution_count": 9,
   "id": "4291e545-6514-4dc3-8971-1b67374e5e69",
   "metadata": {},
   "outputs": [
    {
     "name": "stdout",
     "output_type": "stream",
     "text": [
      "2.25 µs ± 22.2 ns per loop (mean ± std. dev. of 7 runs, 1,000,000 loops each)\n"
     ]
    }
   ],
   "source": [
    "%timeit sum_of_list_recursive([1,2,3,4,5,6,7,8,9,10])"
   ]
  }
 ],
 "metadata": {
  "kernelspec": {
   "display_name": "Python 3 (ipykernel)",
   "language": "python",
   "name": "python3"
  },
  "language_info": {
   "codemirror_mode": {
    "name": "ipython",
    "version": 3
   },
   "file_extension": ".py",
   "mimetype": "text/x-python",
   "name": "python",
   "nbconvert_exporter": "python",
   "pygments_lexer": "ipython3",
   "version": "3.11.5"
  }
 },
 "nbformat": 4,
 "nbformat_minor": 5
}
