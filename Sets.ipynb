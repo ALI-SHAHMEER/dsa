{
 "cells": [
  {
   "cell_type": "markdown",
   "id": "80c76f04-9b24-4632-8105-43a03ad8c80b",
   "metadata": {},
   "source": [
    "# Set Data Structure\n",
    "# Un-order "
   ]
  },
  {
   "cell_type": "code",
   "execution_count": 1,
   "id": "69d65878-c0c0-4e0f-8eae-6b480dad4022",
   "metadata": {},
   "outputs": [
    {
     "name": "stdout",
     "output_type": "stream",
     "text": [
      "{1, 2, 3, 4, 8}\n"
     ]
    }
   ],
   "source": [
    "x = set([1,2,3,4,8,1,2,3])\n",
    "print(x)"
   ]
  },
  {
   "cell_type": "code",
   "execution_count": 2,
   "id": "e8b986c6-bf3b-4885-8811-a3538965b130",
   "metadata": {},
   "outputs": [
    {
     "name": "stdout",
     "output_type": "stream",
     "text": [
      "{'A', 'h', 'm', ' ', 'r', 'S', 'e', 'l', 'i', 'a'}\n"
     ]
    }
   ],
   "source": [
    "y = set('Ali Shahmeer')\n",
    "print(y)"
   ]
  },
  {
   "cell_type": "markdown",
   "id": "ba89b8a5-1cdd-4cc5-9459-f42ea481693b",
   "metadata": {},
   "source": [
    "# Union"
   ]
  },
  {
   "cell_type": "code",
   "execution_count": 3,
   "id": "1d04c7de-f656-4e89-a665-fc18b21bb5f4",
   "metadata": {},
   "outputs": [
    {
     "data": {
      "text/plain": [
       "{1, 2, 3, 4, 5, 6, 7, 8, 9}"
      ]
     },
     "execution_count": 3,
     "metadata": {},
     "output_type": "execute_result"
    }
   ],
   "source": [
    "x1 = {1,2,3,4,6}\n",
    "x2 = {1,2,5,8,7,9}\n",
    "x1 | x2\n",
    "x1.union(x2)"
   ]
  },
  {
   "cell_type": "markdown",
   "id": "ee7d4a17-57d9-4ea6-8168-1a8f474b95dd",
   "metadata": {},
   "source": [
    "# Intersection"
   ]
  },
  {
   "cell_type": "code",
   "execution_count": 4,
   "id": "f647aefb-e091-4ccd-a4ec-6945b6ec5495",
   "metadata": {},
   "outputs": [
    {
     "data": {
      "text/plain": [
       "{1, 2}"
      ]
     },
     "execution_count": 4,
     "metadata": {},
     "output_type": "execute_result"
    }
   ],
   "source": [
    "x1 & x2\n",
    "x1.intersection(x2)"
   ]
  },
  {
   "cell_type": "markdown",
   "id": "17f06cf6-a15f-4e6b-ac26-6ebad1a2aece",
   "metadata": {},
   "source": [
    "# Difference"
   ]
  },
  {
   "cell_type": "code",
   "execution_count": 5,
   "id": "d7d67ad1-0c28-4c09-bb6d-8116b5fe106e",
   "metadata": {},
   "outputs": [
    {
     "data": {
      "text/plain": [
       "{3, 4, 6}"
      ]
     },
     "execution_count": 5,
     "metadata": {},
     "output_type": "execute_result"
    }
   ],
   "source": [
    "x1.difference(x2) #stuff that is in x1 but not in x2"
   ]
  },
  {
   "cell_type": "markdown",
   "id": "8a1af95a-434b-4283-8c5a-95e5bf812560",
   "metadata": {},
   "source": [
    "# Dis-joints"
   ]
  },
  {
   "cell_type": "code",
   "execution_count": 6,
   "id": "dca56c03-11d4-4b95-a55f-5e98ac256ff5",
   "metadata": {},
   "outputs": [
    {
     "data": {
      "text/plain": [
       "False"
      ]
     },
     "execution_count": 6,
     "metadata": {},
     "output_type": "execute_result"
    }
   ],
   "source": [
    "x1.isdisjoint(x2)"
   ]
  },
  {
   "cell_type": "code",
   "execution_count": 7,
   "id": "5d4f6fed-f741-4beb-98b7-0da39a86e08d",
   "metadata": {},
   "outputs": [
    {
     "data": {
      "text/plain": [
       "True"
      ]
     },
     "execution_count": 7,
     "metadata": {},
     "output_type": "execute_result"
    }
   ],
   "source": [
    "a = {'a','b','c'}\n",
    "b = {'d','e','f'}\n",
    "a.isdisjoint(b)"
   ]
  },
  {
   "cell_type": "markdown",
   "id": "020aa37c-f00f-4a2f-862c-1785fa02a801",
   "metadata": {},
   "source": [
    "# Sub-sets"
   ]
  },
  {
   "cell_type": "code",
   "execution_count": 8,
   "id": "3e55dc2a-77d1-408a-b1d7-d8932ed0eaf3",
   "metadata": {},
   "outputs": [],
   "source": [
    "a = {1,2,8}\n",
    "b = {6,8,7,1,2}\n",
    "c = {3,9}"
   ]
  },
  {
   "cell_type": "code",
   "execution_count": 9,
   "id": "16278973-e4ee-40d9-ad84-0c853353cac0",
   "metadata": {},
   "outputs": [
    {
     "data": {
      "text/plain": [
       "True"
      ]
     },
     "execution_count": 9,
     "metadata": {},
     "output_type": "execute_result"
    }
   ],
   "source": [
    "a.issubset(b)"
   ]
  },
  {
   "cell_type": "code",
   "execution_count": 10,
   "id": "a00d2caa-c747-457f-bef9-ff152f2c5740",
   "metadata": {},
   "outputs": [
    {
     "data": {
      "text/plain": [
       "False"
      ]
     },
     "execution_count": 10,
     "metadata": {},
     "output_type": "execute_result"
    }
   ],
   "source": [
    "c.issubset(b)"
   ]
  },
  {
   "cell_type": "markdown",
   "id": "f154f3bd-5281-430c-8434-26b2de2bbf28",
   "metadata": {},
   "source": [
    "# Proper Subsets"
   ]
  },
  {
   "cell_type": "code",
   "execution_count": 11,
   "id": "252b574c-4cb5-43cd-967a-384e7c3e1373",
   "metadata": {},
   "outputs": [
    {
     "data": {
      "text/plain": [
       "False"
      ]
     },
     "execution_count": 11,
     "metadata": {},
     "output_type": "execute_result"
    }
   ],
   "source": [
    "a < c # < represent proper subset "
   ]
  },
  {
   "cell_type": "code",
   "execution_count": 12,
   "id": "d7da3666-b78e-454d-8147-7141c242100a",
   "metadata": {},
   "outputs": [
    {
     "data": {
      "text/plain": [
       "True"
      ]
     },
     "execution_count": 12,
     "metadata": {},
     "output_type": "execute_result"
    }
   ],
   "source": [
    "a < b"
   ]
  },
  {
   "cell_type": "code",
   "execution_count": 13,
   "id": "f1bd5655-ef46-490d-80d0-f78c659b7318",
   "metadata": {},
   "outputs": [
    {
     "data": {
      "text/plain": [
       "False"
      ]
     },
     "execution_count": 13,
     "metadata": {},
     "output_type": "execute_result"
    }
   ],
   "source": [
    "b <= a # <= represent subset"
   ]
  },
  {
   "cell_type": "code",
   "execution_count": 14,
   "id": "04d73e4e-73c1-416a-bec6-7511ca0d2100",
   "metadata": {},
   "outputs": [
    {
     "data": {
      "text/plain": [
       "False"
      ]
     },
     "execution_count": 14,
     "metadata": {},
     "output_type": "execute_result"
    }
   ],
   "source": [
    "c <= b"
   ]
  },
  {
   "cell_type": "markdown",
   "id": "1749f88a-7662-42af-882a-38b89feea52b",
   "metadata": {},
   "source": [
    "# All and Any"
   ]
  },
  {
   "cell_type": "code",
   "execution_count": 15,
   "id": "ba1cb4e1-460a-4d74-b94f-e65f7c422311",
   "metadata": {},
   "outputs": [
    {
     "name": "stdout",
     "output_type": "stream",
     "text": [
      "Condition Satisfied\n"
     ]
    }
   ],
   "source": [
    "a = 24\n",
    "b = 36\n",
    "if a > 2 and b < 50 and b > a and a != 0:\n",
    "    print(\"Condition Satisfied\")"
   ]
  },
  {
   "cell_type": "code",
   "execution_count": 16,
   "id": "ed27b71d-8fa1-45e6-91e0-16b7844f6816",
   "metadata": {},
   "outputs": [
    {
     "name": "stdout",
     "output_type": "stream",
     "text": [
      "Condition Satisfied\n"
     ]
    }
   ],
   "source": [
    "condition = {a > 2 , b < 50 , b > a , a != 0}\n",
    "if all(condition):\n",
    "    print(\"Condition Satisfied\")"
   ]
  },
  {
   "cell_type": "code",
   "execution_count": 17,
   "id": "ecba0eb8-3ad8-4def-b931-d66752e0c874",
   "metadata": {},
   "outputs": [
    {
     "name": "stdout",
     "output_type": "stream",
     "text": [
      "Condition Disatisfied\n"
     ]
    }
   ],
   "source": [
    "condition = {a < 0 , b < 30 , b == 0, a == 0}\n",
    "if any(condition):\n",
    "    print(\"Condition Satisfied\")\n",
    "else:\n",
    "    print(\"Condition Disatisfied\")"
   ]
  },
  {
   "cell_type": "markdown",
   "id": "fcb0529f-307f-41bf-b007-53e4041e7aed",
   "metadata": {},
   "source": [
    "# Quantifier"
   ]
  },
  {
   "cell_type": "code",
   "execution_count": 18,
   "id": "9b889a1d-92bf-4acc-9380-3351ba52673d",
   "metadata": {},
   "outputs": [],
   "source": [
    "X = {10,9,7,4,50,60,44}"
   ]
  },
  {
   "cell_type": "code",
   "execution_count": 19,
   "id": "6cfe59b7-78b6-4a61-8f49-5a05fff20522",
   "metadata": {},
   "outputs": [
    {
     "data": {
      "text/plain": [
       "True"
      ]
     },
     "execution_count": 19,
     "metadata": {},
     "output_type": "execute_result"
    }
   ],
   "source": [
    "all([x < 100 for x in X])"
   ]
  },
  {
   "cell_type": "code",
   "execution_count": 20,
   "id": "7f02bf36-54b0-422e-98fa-7e97f774c8b3",
   "metadata": {},
   "outputs": [
    {
     "data": {
      "text/plain": [
       "True"
      ]
     },
     "execution_count": 20,
     "metadata": {},
     "output_type": "execute_result"
    }
   ],
   "source": [
    "any([x < 50 for x in X])"
   ]
  },
  {
   "cell_type": "markdown",
   "id": "36bb41ac-2842-48b1-8fd0-c56a0ee0a85e",
   "metadata": {},
   "source": [
    "# You can create arbitary function with it"
   ]
  },
  {
   "cell_type": "code",
   "execution_count": 21,
   "id": "8cd8570f-6d12-482c-a46b-1f48cfdbe482",
   "metadata": {},
   "outputs": [],
   "source": [
    "def is_divisible_by_2(n):\n",
    "    return n % 2 == 0"
   ]
  },
  {
   "cell_type": "code",
   "execution_count": 22,
   "id": "12c39c11-dd08-4cfa-9647-b6974cc25133",
   "metadata": {},
   "outputs": [
    {
     "data": {
      "text/plain": [
       "False"
      ]
     },
     "execution_count": 22,
     "metadata": {},
     "output_type": "execute_result"
    }
   ],
   "source": [
    "all([is_divisible_by_2(x) for x in X])"
   ]
  },
  {
   "cell_type": "code",
   "execution_count": 23,
   "id": "fd3eaa0c-b456-4a9f-ac5d-d2d8f64d6f3e",
   "metadata": {},
   "outputs": [
    {
     "data": {
      "text/plain": [
       "True"
      ]
     },
     "execution_count": 23,
     "metadata": {},
     "output_type": "execute_result"
    }
   ],
   "source": [
    "any([is_divisible_by_2(x) for x in X])"
   ]
  },
  {
   "cell_type": "markdown",
   "id": "a2e5f8a2-0821-460d-b32d-0f637c350e16",
   "metadata": {},
   "source": [
    "# Counter from Collection Library"
   ]
  },
  {
   "cell_type": "code",
   "execution_count": 24,
   "id": "68c932b4-8873-41f0-9995-1ef4b241e2a6",
   "metadata": {},
   "outputs": [
    {
     "name": "stdout",
     "output_type": "stream",
     "text": [
      "Counter({'red': 1, 'green': 1, 'blue': 1, 'yellow': 1, 'gray': 1, 'orange': 1, 'white': 1, 'black': 1})\n"
     ]
    }
   ],
   "source": [
    "from collections import Counter\n",
    "count = Counter()\n",
    "for word in ['red','green','blue','yellow','gray','orange','white','black']:\n",
    "    count[word] += 1\n",
    "\n",
    "print(count)"
   ]
  },
  {
   "cell_type": "code",
   "execution_count": 25,
   "id": "18a516be-41f5-4a75-afd0-268dd7b41719",
   "metadata": {},
   "outputs": [
    {
     "data": {
      "text/plain": [
       "[('red', 1), ('green', 1), ('blue', 1)]"
      ]
     },
     "execution_count": 25,
     "metadata": {},
     "output_type": "execute_result"
    }
   ],
   "source": [
    "count.most_common(3)"
   ]
  },
  {
   "cell_type": "code",
   "execution_count": 26,
   "id": "32e6a598-78b5-4319-bff9-81f5356b9991",
   "metadata": {},
   "outputs": [
    {
     "data": {
      "text/plain": [
       "'red'"
      ]
     },
     "execution_count": 26,
     "metadata": {},
     "output_type": "execute_result"
    }
   ],
   "source": [
    "count.most_common()[0][0] #Most common word"
   ]
  },
  {
   "cell_type": "code",
   "execution_count": 27,
   "id": "2cd1e5f3-8107-4a1b-80d8-4fd325f9ed66",
   "metadata": {},
   "outputs": [
    {
     "data": {
      "text/plain": [
       "'black'"
      ]
     },
     "execution_count": 27,
     "metadata": {},
     "output_type": "execute_result"
    }
   ],
   "source": [
    "count.most_common()[-1][0] #Least common word"
   ]
  },
  {
   "cell_type": "code",
   "execution_count": 28,
   "id": "e599d35b-bb22-484d-a2c1-b667221f7a48",
   "metadata": {},
   "outputs": [
    {
     "data": {
      "text/plain": [
       "[('program', 2),\n",
       " ('to', 2),\n",
       " ('change,', 2),\n",
       " ('it', 2),\n",
       " ('won’t', 2),\n",
       " ('the', 2),\n",
       " ('If', 1),\n",
       " ('you', 1),\n",
       " ('give', 1),\n",
       " ('me', 1),\n",
       " ('a', 1),\n",
       " ('that', 1),\n",
       " ('works', 1),\n",
       " ('perfectly', 1),\n",
       " ('but', 1),\n",
       " ('is', 1),\n",
       " ('impossible', 1),\n",
       " ('then', 1),\n",
       " ('work', 1),\n",
       " ('when', 1),\n",
       " ('requirements', 1),\n",
       " ('and', 1),\n",
       " ('I', 1),\n",
       " ('be', 1),\n",
       " ('able', 1),\n",
       " ('make', 1),\n",
       " ('work.', 1),\n",
       " ('Therefore', 1),\n",
       " ('will', 1),\n",
       " ('become', 1),\n",
       " ('useless.', 1)]"
      ]
     },
     "execution_count": 28,
     "metadata": {},
     "output_type": "execute_result"
    }
   ],
   "source": [
    "sentence = '''\n",
    "            If you give me a program that works perfectly but is impossible to change,\n",
    "            then it won’t work when the requirements change, and I won’t be able to\n",
    "            make it work. Therefore the program will become useless.\n",
    "            '''\n",
    "count1 = Counter()\n",
    "for word in sentence.split():\n",
    "    count1[word] += 1\n",
    "\n",
    "count1.most_common()"
   ]
  },
  {
   "cell_type": "code",
   "execution_count": 29,
   "id": "0addb7cf-e996-45b5-a96d-ce9f0070d43e",
   "metadata": {},
   "outputs": [
    {
     "data": {
      "text/plain": [
       "[('program', 2), ('to', 2), ('change,', 2)]"
      ]
     },
     "execution_count": 29,
     "metadata": {},
     "output_type": "execute_result"
    }
   ],
   "source": [
    "count1.most_common(3)"
   ]
  },
  {
   "cell_type": "code",
   "execution_count": 30,
   "id": "b26806a7-650a-47de-abb8-752cd8f1eec3",
   "metadata": {},
   "outputs": [
    {
     "data": {
      "text/plain": [
       "'program'"
      ]
     },
     "execution_count": 30,
     "metadata": {},
     "output_type": "execute_result"
    }
   ],
   "source": [
    "count1.most_common()[0][0] # Most common word"
   ]
  },
  {
   "cell_type": "code",
   "execution_count": 31,
   "id": "6dd898b0-1996-466a-8039-ffbb578a053a",
   "metadata": {},
   "outputs": [
    {
     "data": {
      "text/plain": [
       "'useless.'"
      ]
     },
     "execution_count": 31,
     "metadata": {},
     "output_type": "execute_result"
    }
   ],
   "source": [
    "count1.most_common()[-1][0] # Least common word"
   ]
  },
  {
   "cell_type": "markdown",
   "id": "2a520ed0-ce17-4476-a1ff-27aeb06d3645",
   "metadata": {},
   "source": [
    "# Counting Technique using Dictionary"
   ]
  },
  {
   "cell_type": "code",
   "execution_count": 32,
   "id": "91f8d716-f274-4916-87e8-a4c39016b797",
   "metadata": {},
   "outputs": [
    {
     "name": "stdout",
     "output_type": "stream",
     "text": [
      "{'red': 2, 'green': 2, 'blue': 2, 'yellow': 2, 'gray': 2, 'orange': 2, 'white': 2, 'black': 2}\n"
     ]
    }
   ],
   "source": [
    "dict = {}\n",
    "color = ['red','green','blue','yellow','gray','orange','white','black','red','green','blue','yellow','gray','orange','white','black']\n",
    "for c in color:\n",
    "    if c in dict:\n",
    "        dict[c] += 1\n",
    "    else:\n",
    "        dict[c] = 1\n",
    "\n",
    "print(dict)"
   ]
  },
  {
   "cell_type": "code",
   "execution_count": 33,
   "id": "7bc169a7-13da-4bb8-a801-1c382e18b67f",
   "metadata": {},
   "outputs": [
    {
     "name": "stdout",
     "output_type": "stream",
     "text": [
      "{'If': 1, 'you': 1, 'give': 1, 'me': 1, 'a': 1, 'program': 2, 'that': 1, 'works': 1, 'perfectly': 1, 'but': 1, 'is': 1, 'impossible': 1, 'to': 2, 'change,': 2, 'then': 1, 'it': 2, 'won’t': 2, 'work': 1, 'when': 1, 'the': 2, 'requirements': 1, 'and': 1, 'I': 1, 'be': 1, 'able': 1, 'make': 1, 'work.': 1, 'Therefore': 1, 'will': 1, 'become': 1, 'useless.': 1}\n"
     ]
    }
   ],
   "source": [
    "word_dict = {}\n",
    "sentence = '''\n",
    "            If you give me a program that works perfectly but is impossible to change,\n",
    "            then it won’t work when the requirements change, and I won’t be able to\n",
    "            make it work. Therefore the program will become useless.\n",
    "            '''\n",
    "for word in sentence.split():\n",
    "    if word in word_dict:\n",
    "        word_dict[word] += 1\n",
    "    else:\n",
    "        word_dict[word] = 1\n",
    "\n",
    "print(word_dict)\n",
    "        "
   ]
  },
  {
   "cell_type": "code",
   "execution_count": null,
   "id": "27e68167-7a1d-497c-a9b1-f9178d99366d",
   "metadata": {},
   "outputs": [],
   "source": []
  }
 ],
 "metadata": {
  "kernelspec": {
   "display_name": "Python 3 (ipykernel)",
   "language": "python",
   "name": "python3"
  },
  "language_info": {
   "codemirror_mode": {
    "name": "ipython",
    "version": 3
   },
   "file_extension": ".py",
   "mimetype": "text/x-python",
   "name": "python",
   "nbconvert_exporter": "python",
   "pygments_lexer": "ipython3",
   "version": "3.11.5"
  }
 },
 "nbformat": 4,
 "nbformat_minor": 5
}
