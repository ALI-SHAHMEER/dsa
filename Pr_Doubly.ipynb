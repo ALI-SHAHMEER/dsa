{
 "cells": [
  {
   "cell_type": "code",
   "execution_count": 1,
   "id": "068ef85e-b61a-4358-9927-c51117df9e2d",
   "metadata": {},
   "outputs": [],
   "source": [
    "class Node:\n",
    "    def __init__(self,data=None):\n",
    "        self.data = data\n",
    "        self.prev = None\n",
    "        self.next = None\n",
    "\n",
    "class Doubly:\n",
    "    def __init__(self):\n",
    "        self.head = None"
   ]
  },
  {
   "cell_type": "code",
   "execution_count": 2,
   "id": "b523f04c-16f6-44a4-85e8-e8d2e39a3e46",
   "metadata": {},
   "outputs": [],
   "source": [
    "def __str__(self):\n",
    "    ret_str = '['\n",
    "    temp = self.head\n",
    "    while temp is not None:\n",
    "        ret_str += str(temp.data)+', '\n",
    "        temp = temp.next\n",
    "\n",
    "    ret_str = ret_str.rstrip(', ')\n",
    "    ret_str += ']'\n",
    "    return ret_str\n",
    "\n",
    "Doubly.__str__ = __str__"
   ]
  },
  {
   "cell_type": "code",
   "execution_count": 3,
   "id": "7ea1a46a-4b64-4b52-b985-bbbc71ee8144",
   "metadata": {},
   "outputs": [],
   "source": [
    "def push(self, data):\n",
    "    new_node = Node(data)\n",
    "    if self.head is None:\n",
    "        self.head = new_node\n",
    "        print(\"case 1\")\n",
    "        return\n",
    "    else:\n",
    "        print(\"case 2\")\n",
    "        current = self.head\n",
    "        while current.next is not None:\n",
    "            current = current.next\n",
    "        current.next = new_node\n",
    "        new_node.prev = current\n",
    "    \n",
    "Doubly.push = push        "
   ]
  },
  {
   "cell_type": "code",
   "execution_count": 4,
   "id": "33315aa6-39b1-480e-b26c-a3ec5a45c5cf",
   "metadata": {},
   "outputs": [],
   "source": [
    "def pop(self):\n",
    "    if self.head is None:\n",
    "        raise Exception(\"Could not pop\")\n",
    "        return\n",
    "\n",
    "    else:\n",
    "        if self.head.next is None:\n",
    "            print(\"Case 1\")\n",
    "            val = self.head.data\n",
    "            self.head = None\n",
    "            return val\n",
    "        elif self.head.next is not None:\n",
    "            print(\"Case 2\")\n",
    "            current = self.head\n",
    "            while current.next is not None:\n",
    "                prev = current\n",
    "                current = current.next\n",
    "                \n",
    "            val = current.data\n",
    "            prev.next = None\n",
    "            return val\n",
    "\n",
    "Doubly.pop = pop"
   ]
  },
  {
   "cell_type": "code",
   "execution_count": 5,
   "id": "5841196b-fd6c-4489-a704-aa9f5853db46",
   "metadata": {},
   "outputs": [],
   "source": [
    "def insert(self,index,val):\n",
    "    new_node = Node(val)\n",
    "    if index == 0:\n",
    "        print(\"Case 1\")\n",
    "        new_node.next = self.head  \n",
    "        if self.head is not None:\n",
    "            print(\"Case 1.5\")\n",
    "            self.head.prev = new_node\n",
    "        self.head = new_node\n",
    "        return\n",
    "    count = 0\n",
    "    current = self.head\n",
    "    while current is not None and count < index:\n",
    "        prev = current\n",
    "        current = current.next\n",
    "        count += 1\n",
    "    print(\"Case 2\")\n",
    "    prev.next = new_node\n",
    "    new_node.prev = prev\n",
    "\n",
    "    new_node.next = current\n",
    "    current.prev = new_node\n",
    "    return\n",
    "Doubly.insert = insert            "
   ]
  },
  {
   "cell_type": "code",
   "execution_count": 6,
   "id": "9bacfe9d-78fd-4592-aff4-cc7a1e7db414",
   "metadata": {},
   "outputs": [],
   "source": [
    "def remove(self,val):\n",
    "    current = self.head\n",
    "    if current.next is None and current.data == val:\n",
    "        remove = current.data\n",
    "        self.head = None\n",
    "        print(\"Case 1\")\n",
    "        return remove\n",
    "    elif current is not None and current.data == val:\n",
    "        remove = current.data\n",
    "        self.head = self.head.next\n",
    "        self.head.prev = None\n",
    "        print(\"Case 1.5\")\n",
    "        return remove\n",
    "    else:\n",
    "        while current.next is not None:\n",
    "            if current.data == val:\n",
    "                break\n",
    "            prev = current\n",
    "            current = current.next\n",
    "        prev.next = current.next\n",
    "        if current.next is not None:\n",
    "            current.next.prev = prev #This digs further to access the prev pointer of the next node. This pointer will be used to establish the new connection\n",
    "        print(\"Case 2\")\n",
    "        return\n",
    "    \n",
    "Doubly.remove = remove"
   ]
  },
  {
   "cell_type": "code",
   "execution_count": 7,
   "id": "1f323a6d-99e7-478f-a53c-00c9ce5419cb",
   "metadata": {},
   "outputs": [],
   "source": [
    "def len(self):\n",
    "    counter = 0\n",
    "    current = self.head\n",
    "    while current is not None:\n",
    "        counter += 1\n",
    "        current = current.next\n",
    "    return counter\n",
    "\n",
    "Doubly.len = len"
   ]
  },
  {
   "cell_type": "code",
   "execution_count": 8,
   "id": "a8aa70ca-8fd2-4f34-8df0-fc53e96491d5",
   "metadata": {},
   "outputs": [],
   "source": [
    "dl = Doubly()"
   ]
  },
  {
   "cell_type": "code",
   "execution_count": 9,
   "id": "f608ddb0-0c4f-46a8-89dd-a1ae04474ca5",
   "metadata": {},
   "outputs": [
    {
     "name": "stdout",
     "output_type": "stream",
     "text": [
      "[]\n"
     ]
    }
   ],
   "source": [
    "print(dl)"
   ]
  },
  {
   "cell_type": "code",
   "execution_count": 10,
   "id": "16921452-7c6f-4fee-9d1c-cc8d43a52070",
   "metadata": {},
   "outputs": [
    {
     "name": "stdout",
     "output_type": "stream",
     "text": [
      "case 1\n",
      "case 2\n",
      "case 2\n",
      "case 2\n",
      "case 2\n",
      "case 2\n",
      "case 2\n",
      "case 2\n",
      "case 2\n",
      "case 2\n",
      "case 2\n"
     ]
    }
   ],
   "source": [
    "for i in range(0,11):\n",
    "    dl.push(i)"
   ]
  },
  {
   "cell_type": "code",
   "execution_count": 11,
   "id": "ef2eef3d-a0f8-4972-b511-2eb86d434080",
   "metadata": {},
   "outputs": [
    {
     "name": "stdout",
     "output_type": "stream",
     "text": [
      "[0, 1, 2, 3, 4, 5, 6, 7, 8, 9, 10]\n"
     ]
    }
   ],
   "source": [
    "print(dl)"
   ]
  },
  {
   "cell_type": "code",
   "execution_count": 12,
   "id": "8cfe7075-f38a-4e28-8a3b-11b561cff5d7",
   "metadata": {},
   "outputs": [
    {
     "name": "stdout",
     "output_type": "stream",
     "text": [
      "Case 2\n"
     ]
    },
    {
     "data": {
      "text/plain": [
       "10"
      ]
     },
     "execution_count": 12,
     "metadata": {},
     "output_type": "execute_result"
    }
   ],
   "source": [
    "pop(dl)"
   ]
  },
  {
   "cell_type": "code",
   "execution_count": 13,
   "id": "a7de2a88-2305-4236-bc26-e60617fcc5f9",
   "metadata": {},
   "outputs": [
    {
     "name": "stdout",
     "output_type": "stream",
     "text": [
      "[0, 1, 2, 3, 4, 5, 6, 7, 8, 9]\n"
     ]
    }
   ],
   "source": [
    "print(dl)"
   ]
  },
  {
   "cell_type": "code",
   "execution_count": 14,
   "id": "9bf7d119-4e54-4d63-8bef-33b1794d52e8",
   "metadata": {},
   "outputs": [
    {
     "name": "stdout",
     "output_type": "stream",
     "text": [
      "Case 1\n",
      "Case 1.5\n"
     ]
    }
   ],
   "source": [
    "dl.insert(0,0.5)"
   ]
  },
  {
   "cell_type": "code",
   "execution_count": 15,
   "id": "c757ea40-a85c-48d5-acb1-f4630fed69f1",
   "metadata": {},
   "outputs": [
    {
     "name": "stdout",
     "output_type": "stream",
     "text": [
      "[0.5, 0, 1, 2, 3, 4, 5, 6, 7, 8, 9]\n"
     ]
    }
   ],
   "source": [
    "print(dl)"
   ]
  },
  {
   "cell_type": "code",
   "execution_count": 16,
   "id": "fd962757-d510-4275-a053-272055790ecd",
   "metadata": {},
   "outputs": [
    {
     "name": "stdout",
     "output_type": "stream",
     "text": [
      "Case 2\n"
     ]
    }
   ],
   "source": [
    "dl.insert(6,4.5)"
   ]
  },
  {
   "cell_type": "code",
   "execution_count": 17,
   "id": "b596116d-e891-45e7-a636-e6d614f4984a",
   "metadata": {},
   "outputs": [
    {
     "name": "stdout",
     "output_type": "stream",
     "text": [
      "[0.5, 0, 1, 2, 3, 4, 4.5, 5, 6, 7, 8, 9]\n"
     ]
    }
   ],
   "source": [
    "print(dl)"
   ]
  },
  {
   "cell_type": "code",
   "execution_count": 18,
   "id": "3b211a62-e6c0-4d39-bf46-85bdb3732016",
   "metadata": {},
   "outputs": [
    {
     "name": "stdout",
     "output_type": "stream",
     "text": [
      "Case 1.5\n"
     ]
    },
    {
     "data": {
      "text/plain": [
       "0.5"
      ]
     },
     "execution_count": 18,
     "metadata": {},
     "output_type": "execute_result"
    }
   ],
   "source": [
    "dl.remove(0.5)"
   ]
  },
  {
   "cell_type": "code",
   "execution_count": 19,
   "id": "69942c61-6131-4a8f-8c17-365678de7438",
   "metadata": {},
   "outputs": [
    {
     "name": "stdout",
     "output_type": "stream",
     "text": [
      "[0, 1, 2, 3, 4, 4.5, 5, 6, 7, 8, 9]\n"
     ]
    }
   ],
   "source": [
    "print(dl)"
   ]
  },
  {
   "cell_type": "code",
   "execution_count": 20,
   "id": "96b013ad-70ce-4862-aa6c-9532113d8caa",
   "metadata": {},
   "outputs": [],
   "source": [
    "dl2 = Doubly()"
   ]
  },
  {
   "cell_type": "code",
   "execution_count": 21,
   "id": "6c6ffa26-d0ba-4cf0-b283-13d450c3b342",
   "metadata": {},
   "outputs": [
    {
     "name": "stdout",
     "output_type": "stream",
     "text": [
      "case 1\n",
      "case 2\n"
     ]
    }
   ],
   "source": [
    "dl2.push(10)\n",
    "dl2.push(15)"
   ]
  },
  {
   "cell_type": "code",
   "execution_count": 22,
   "id": "85384321-b230-496f-a11e-58e0c8ad8f2a",
   "metadata": {},
   "outputs": [
    {
     "name": "stdout",
     "output_type": "stream",
     "text": [
      "Case 1.5\n"
     ]
    },
    {
     "data": {
      "text/plain": [
       "10"
      ]
     },
     "execution_count": 22,
     "metadata": {},
     "output_type": "execute_result"
    }
   ],
   "source": [
    "dl2.remove(10)"
   ]
  },
  {
   "cell_type": "code",
   "execution_count": 23,
   "id": "162c7bd3-ff9d-474d-bb92-cf6424d74938",
   "metadata": {},
   "outputs": [
    {
     "name": "stdout",
     "output_type": "stream",
     "text": [
      "[15]\n"
     ]
    }
   ],
   "source": [
    "print(dl2)"
   ]
  },
  {
   "cell_type": "code",
   "execution_count": 24,
   "id": "fe763807-3cc1-433c-9a58-66a6c54c7550",
   "metadata": {},
   "outputs": [
    {
     "name": "stdout",
     "output_type": "stream",
     "text": [
      "Case 1\n"
     ]
    },
    {
     "data": {
      "text/plain": [
       "15"
      ]
     },
     "execution_count": 24,
     "metadata": {},
     "output_type": "execute_result"
    }
   ],
   "source": [
    "dl2.remove(15)"
   ]
  },
  {
   "cell_type": "code",
   "execution_count": 25,
   "id": "0ca4a208-c375-4429-9b56-8437f75bc863",
   "metadata": {},
   "outputs": [
    {
     "name": "stdout",
     "output_type": "stream",
     "text": [
      "[]\n"
     ]
    }
   ],
   "source": [
    "print(dl2)"
   ]
  },
  {
   "cell_type": "code",
   "execution_count": 26,
   "id": "2e19f2f3-21f9-471a-abf2-49ddb2f529c7",
   "metadata": {},
   "outputs": [
    {
     "name": "stdout",
     "output_type": "stream",
     "text": [
      "[0, 1, 2, 3, 4, 4.5, 5, 6, 7, 8, 9]\n"
     ]
    }
   ],
   "source": [
    "print(dl)"
   ]
  },
  {
   "cell_type": "code",
   "execution_count": 27,
   "id": "a2225221-a0dd-46e2-b653-6bbcd29c5957",
   "metadata": {},
   "outputs": [
    {
     "name": "stdout",
     "output_type": "stream",
     "text": [
      "Case 2\n"
     ]
    }
   ],
   "source": [
    "dl.remove(4.5)"
   ]
  },
  {
   "cell_type": "code",
   "execution_count": 28,
   "id": "ca5cf31a-4047-45e6-8c01-1cab849d3f2d",
   "metadata": {},
   "outputs": [
    {
     "name": "stdout",
     "output_type": "stream",
     "text": [
      "[0, 1, 2, 3, 4, 5, 6, 7, 8, 9]\n"
     ]
    }
   ],
   "source": [
    "print(dl)"
   ]
  },
  {
   "cell_type": "code",
   "execution_count": 29,
   "id": "e4365dfc-a071-4114-94a3-7cde537eea54",
   "metadata": {},
   "outputs": [
    {
     "name": "stdout",
     "output_type": "stream",
     "text": [
      "Case 1.5\n"
     ]
    },
    {
     "data": {
      "text/plain": [
       "0"
      ]
     },
     "execution_count": 29,
     "metadata": {},
     "output_type": "execute_result"
    }
   ],
   "source": [
    "dl.remove(0)"
   ]
  },
  {
   "cell_type": "code",
   "execution_count": 30,
   "id": "022dc990-7015-4a5e-84cf-696c7db934cf",
   "metadata": {},
   "outputs": [
    {
     "name": "stdout",
     "output_type": "stream",
     "text": [
      "[1, 2, 3, 4, 5, 6, 7, 8, 9]\n"
     ]
    }
   ],
   "source": [
    "print(dl)"
   ]
  },
  {
   "cell_type": "code",
   "execution_count": 31,
   "id": "335e999f-4155-4bbf-8203-0914a55eb8fa",
   "metadata": {},
   "outputs": [
    {
     "name": "stdout",
     "output_type": "stream",
     "text": [
      "Case 2\n"
     ]
    }
   ],
   "source": [
    "dl.remove(9)"
   ]
  },
  {
   "cell_type": "code",
   "execution_count": 32,
   "id": "06d2d7c6-acb3-47e5-8fac-1624f6c16b83",
   "metadata": {},
   "outputs": [
    {
     "name": "stdout",
     "output_type": "stream",
     "text": [
      "[1, 2, 3, 4, 5, 6, 7, 8]\n"
     ]
    }
   ],
   "source": [
    "print(dl)"
   ]
  },
  {
   "cell_type": "code",
   "execution_count": 33,
   "id": "198bcb19-5ae0-4fd2-9788-823edc2472bf",
   "metadata": {},
   "outputs": [
    {
     "data": {
      "text/plain": [
       "8"
      ]
     },
     "execution_count": 33,
     "metadata": {},
     "output_type": "execute_result"
    }
   ],
   "source": [
    "dl.len()"
   ]
  },
  {
   "cell_type": "code",
   "execution_count": 34,
   "id": "ab459890-ebc6-45a3-91ef-d67212ed1f48",
   "metadata": {},
   "outputs": [
    {
     "data": {
      "text/plain": [
       "0"
      ]
     },
     "execution_count": 34,
     "metadata": {},
     "output_type": "execute_result"
    }
   ],
   "source": [
    "dl2.len()"
   ]
  }
 ],
 "metadata": {
  "kernelspec": {
   "display_name": "Python 3 (ipykernel)",
   "language": "python",
   "name": "python3"
  },
  "language_info": {
   "codemirror_mode": {
    "name": "ipython",
    "version": 3
   },
   "file_extension": ".py",
   "mimetype": "text/x-python",
   "name": "python",
   "nbconvert_exporter": "python",
   "pygments_lexer": "ipython3",
   "version": "3.11.5"
  }
 },
 "nbformat": 4,
 "nbformat_minor": 5
}
